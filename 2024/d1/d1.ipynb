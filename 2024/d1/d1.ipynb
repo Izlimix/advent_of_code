{
 "cells": [
  {
   "cell_type": "code",
   "execution_count": 1,
   "metadata": {},
   "outputs": [],
   "source": [
    "from collections import Counter"
   ]
  },
  {
   "cell_type": "code",
   "execution_count": 2,
   "metadata": {},
   "outputs": [],
   "source": [
    "filename = \"sample.txt\"\n",
    "# filename = \"input.txt\"\n",
    "with open(filename, encoding=\"utf-8\") as f:\n",
    "    data = f.read()\n",
    "\n",
    "lines = data.strip().split(\"\\n\")"
   ]
  },
  {
   "cell_type": "markdown",
   "metadata": {},
   "source": [
    "https://adventofcode.com/2024/day/1\n",
    "\n"
   ]
  },
  {
   "cell_type": "code",
   "execution_count": 3,
   "metadata": {},
   "outputs": [
    {
     "data": {
      "text/plain": [
       "11"
      ]
     },
     "execution_count": 3,
     "metadata": {},
     "output_type": "execute_result"
    }
   ],
   "source": [
    "## Part 1\n",
    "# Parse left (l1) and right (l2) lists\n",
    "l1, l2 = [], []\n",
    "for l in lines:\n",
    "    n1, n2 = map(int, l.split())\n",
    "    l1.append(n1)\n",
    "    l2.append(n2)\n",
    "\n",
    "total_distance = sum(abs(n1 - n2) for (n1, n2) in zip(sorted(l1), sorted(l2)))\n",
    "# Part 1 result = sum of abs differences\n",
    "total_distance"
   ]
  },
  {
   "cell_type": "code",
   "execution_count": 4,
   "metadata": {},
   "outputs": [
    {
     "data": {
      "text/plain": [
       "31"
      ]
     },
     "execution_count": 4,
     "metadata": {},
     "output_type": "execute_result"
    }
   ],
   "source": [
    "## Part 2:\n",
    "# Similarity score of n1 = n1 * (n1 appearances in l2)\n",
    "l2_counts = Counter(l2)\n",
    "total_similarity = sum(n1 * l2_counts[n1] for n1 in l1)\n",
    "# Part 2 result = sum of similarity scores\n",
    "total_similarity"
   ]
  }
 ],
 "metadata": {
  "kernelspec": {
   "display_name": ".venv",
   "language": "python",
   "name": "python3"
  },
  "language_info": {
   "codemirror_mode": {
    "name": "ipython",
    "version": 3
   },
   "file_extension": ".py",
   "mimetype": "text/x-python",
   "name": "python",
   "nbconvert_exporter": "python",
   "pygments_lexer": "ipython3",
   "version": "3.13.0"
  }
 },
 "nbformat": 4,
 "nbformat_minor": 2
}
