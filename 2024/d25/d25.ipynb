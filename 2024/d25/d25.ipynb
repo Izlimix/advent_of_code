{
 "cells": [
  {
   "cell_type": "code",
   "execution_count": 1,
   "metadata": {},
   "outputs": [],
   "source": [
    "filename = \"sample.txt\"\n",
    "# filename = \"input.txt\"\n",
    "with open(filename, encoding=\"utf-8\") as f:\n",
    "    data = f.read()\n",
    "\n",
    "schematics = data.strip().split(\"\\n\\n\")"
   ]
  },
  {
   "cell_type": "markdown",
   "metadata": {},
   "source": [
    "https://adventofcode.com/2024/day/25"
   ]
  },
  {
   "cell_type": "code",
   "execution_count": 2,
   "metadata": {},
   "outputs": [
    {
     "data": {
      "text/plain": [
       "(2, 3)"
      ]
     },
     "execution_count": 2,
     "metadata": {},
     "output_type": "execute_result"
    }
   ],
   "source": [
    "## Part 1\n",
    "# Locks have the top row filled # and bottom row empty .\n",
    "# Keys are the opposite\n",
    "# If the lock+key pair doesn't overlap, then it fits!\n",
    "def transpose(grid: list[list]):\n",
    "    return list(zip(*grid))\n",
    "\n",
    "locks = []\n",
    "keys = []\n",
    "for s in schematics:\n",
    "    c = s[0]\n",
    "    # Transpose the lines so it's easier to count\n",
    "    lines = transpose(s.split(\"\\n\"))\n",
    "    # Assume the keys and locks are all well-formed, so the left/right-handedness doesn't matter\n",
    "    heights = [sum(1 for c in line if c == '#') for line in lines]\n",
    "    if c == \"#\":\n",
    "        locks.append(heights)\n",
    "    else:\n",
    "        keys.append(heights)\n",
    "\n",
    "len(locks), len(keys)"
   ]
  },
  {
   "cell_type": "code",
   "execution_count": 3,
   "metadata": {},
   "outputs": [
    {
     "data": {
      "text/plain": [
       "3"
      ]
     },
     "execution_count": 3,
     "metadata": {},
     "output_type": "execute_result"
    }
   ],
   "source": [
    "def fits(lock, key):\n",
    "    return all((n1 + n2) <= 7 for n1, n2 in zip(lock, key))\n",
    "\n",
    "result = [(lock, key) for lock in locks for key in keys if fits(lock, key)]\n",
    "len(result)"
   ]
  }
 ],
 "metadata": {
  "kernelspec": {
   "display_name": ".venv",
   "language": "python",
   "name": "python3"
  },
  "language_info": {
   "codemirror_mode": {
    "name": "ipython",
    "version": 3
   },
   "file_extension": ".py",
   "mimetype": "text/x-python",
   "name": "python",
   "nbconvert_exporter": "python",
   "pygments_lexer": "ipython3",
   "version": "3.13.0"
  }
 },
 "nbformat": 4,
 "nbformat_minor": 2
}
