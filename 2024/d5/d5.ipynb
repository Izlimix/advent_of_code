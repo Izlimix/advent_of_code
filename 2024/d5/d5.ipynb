{
 "cells": [
  {
   "cell_type": "code",
   "execution_count": 1,
   "metadata": {},
   "outputs": [],
   "source": [
    "import re\n",
    "from collections import defaultdict\n",
    "from tqdm import tqdm"
   ]
  },
  {
   "cell_type": "code",
   "execution_count": 2,
   "metadata": {},
   "outputs": [],
   "source": [
    "filename = \"sample.txt\"\n",
    "# filename = \"input.txt\"\n",
    "with open(filename, encoding=\"utf-8\") as f:\n",
    "    data = f.read()\n",
    "\n",
    "rules, updates = data.strip().split(\"\\n\\n\")\n",
    "rules = rules.split(\"\\n\")\n",
    "updates = updates.split(\"\\n\")"
   ]
  },
  {
   "cell_type": "code",
   "execution_count": 3,
   "metadata": {},
   "outputs": [],
   "source": [
    "## Part 1\n",
    "# An update is accepted if none of the page-ordering rules is broken\n",
    "# Sum the middle page number of each accepted update\n",
    "\n",
    "# Opt 1: Turn every rule A|B into a regex for B with positive lookahead of A\n",
    "#  -> if any of the rules match, reject the update \n",
    "# Opt 2 (probably more sensible): dict of rules {B: A}, keep a set of seen pages\n",
    "#  For each page, if a rule applies, check that A hasn't been seen yet\n",
    "\n",
    "def get_middle_number(xs: list):\n",
    "    l = len(xs)\n",
    "    return xs[l // 2]"
   ]
  },
  {
   "cell_type": "code",
   "execution_count": 4,
   "metadata": {},
   "outputs": [
    {
     "name": "stderr",
     "output_type": "stream",
     "text": [
      "100%|██████████| 6/6 [00:00<00:00, 21399.51it/s]\n"
     ]
    },
    {
     "data": {
      "text/plain": [
       "143"
      ]
     },
     "execution_count": 4,
     "metadata": {},
     "output_type": "execute_result"
    }
   ],
   "source": [
    "# Opt 1, for fun:\n",
    "rejection_patterns = []\n",
    "for rule in rules:\n",
    "    a, b = rule.split(\"|\")\n",
    "    # When we see B, do we see A ahead? If yes, reject.\n",
    "    pattern = re.compile(rf\"{b}(?=.*{a})\")\n",
    "    rejection_patterns.append(pattern)\n",
    "\n",
    "# Note: this makes a pass through update for every rule, which scales extremely poorly!\n",
    "accepted_updates = [update for update in tqdm(updates) if all((p.search(update) is None) for p in rejection_patterns)]\n",
    "p1_result = sum(int(get_middle_number(update.split(\",\"))) for update in accepted_updates)\n",
    "p1_result"
   ]
  },
  {
   "cell_type": "code",
   "execution_count": 5,
   "metadata": {},
   "outputs": [
    {
     "data": {
      "text/plain": [
       "3"
      ]
     },
     "execution_count": 5,
     "metadata": {},
     "output_type": "execute_result"
    }
   ],
   "source": [
    "## Part 2\n",
    "# Keep only the rejected updates\n",
    "# Reorder each of them so they break no rules\n",
    "# Sum the middle page numbers again\n",
    "rejected_updates = [update for update in updates if update not in accepted_updates]\n",
    "len(rejected_updates)"
   ]
  },
  {
   "cell_type": "code",
   "execution_count": 6,
   "metadata": {},
   "outputs": [],
   "source": [
    "# Sth like insertion sort?\n",
    "# Parse rules to get the list of all Bs this A should be in front of {A: [B]}\n",
    "# Keep a sorted sublist, and add new pages A into the largest index that's before all Bs (satisfies all rules)\n",
    "rule_dict = defaultdict(set)\n",
    "# Parse rules\n",
    "for rule in rules:\n",
    "    a, b = rule.split(\"|\")\n",
    "    rule_dict[a].add(b)"
   ]
  },
  {
   "cell_type": "code",
   "execution_count": 7,
   "metadata": {},
   "outputs": [],
   "source": [
    "def reorder_update(pages: list, rule_dict=rule_dict):\n",
    "    result = []\n",
    "    for page in pages:\n",
    "        # Get the index that we should insert before\n",
    "        # Default to the end of the list\n",
    "        i_candidates = [len(result)]\n",
    "        for b in rule_dict[page]:\n",
    "            try:\n",
    "                i_candidates.append(result.index(b))\n",
    "            except ValueError:\n",
    "                pass\n",
    "        result.insert(min(i_candidates), page)\n",
    "\n",
    "    return result"
   ]
  },
  {
   "cell_type": "code",
   "execution_count": 8,
   "metadata": {},
   "outputs": [
    {
     "name": "stderr",
     "output_type": "stream",
     "text": [
      "100%|██████████| 3/3 [00:00<00:00, 7186.13it/s]\n"
     ]
    },
    {
     "data": {
      "text/plain": [
       "123"
      ]
     },
     "execution_count": 8,
     "metadata": {},
     "output_type": "execute_result"
    }
   ],
   "source": [
    "p2_result = 0\n",
    "for update_str in tqdm(rejected_updates):\n",
    "    update = update_str.split(\",\")\n",
    "    # print(f\"Before: {update}\")\n",
    "    reordered_update = reorder_update(update)\n",
    "    # print(f\"After: {reordered_update}\")\n",
    "    p2_result += int(get_middle_number(reordered_update))\n",
    "\n",
    "p2_result"
   ]
  }
 ],
 "metadata": {
  "kernelspec": {
   "display_name": ".venv",
   "language": "python",
   "name": "python3"
  },
  "language_info": {
   "codemirror_mode": {
    "name": "ipython",
    "version": 3
   },
   "file_extension": ".py",
   "mimetype": "text/x-python",
   "name": "python",
   "nbconvert_exporter": "python",
   "pygments_lexer": "ipython3",
   "version": "3.13.0"
  }
 },
 "nbformat": 4,
 "nbformat_minor": 2
}
