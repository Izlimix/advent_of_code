{
 "cells": [
  {
   "cell_type": "code",
   "execution_count": 1,
   "metadata": {},
   "outputs": [],
   "source": [
    "from tqdm import tqdm"
   ]
  },
  {
   "cell_type": "code",
   "execution_count": 2,
   "metadata": {},
   "outputs": [],
   "source": [
    "filename = \"sample.txt\"\n",
    "# filename = \"input.txt\"\n",
    "with open(filename, encoding=\"utf-8\") as f:\n",
    "    data = f.read()\n",
    "\n",
    "grid = data.strip().split(\"\\n\")"
   ]
  },
  {
   "cell_type": "markdown",
   "metadata": {},
   "source": [
    "https://adventofcode.com/2024/day/4"
   ]
  },
  {
   "cell_type": "code",
   "execution_count": 3,
   "metadata": {},
   "outputs": [
    {
     "data": {
      "text/plain": [
       "[(1+1j), 1, (1-1j), 1j, -1j, (-1+1j), -1, (-1-1j)]"
      ]
     },
     "execution_count": 3,
     "metadata": {},
     "output_type": "execute_result"
    }
   ],
   "source": [
    "## Part 1\n",
    "# How many times does XMAS appear?\n",
    "#  forwards, backwards, vertically, diagonally all accepted\n",
    "# directions: N E S W, NE SE SW NW\n",
    "step_directions = [x + y for x in (1, 0, -1) for y in (1j, 0, -1j) if (x + y) != 0]\n",
    "step_directions"
   ]
  },
  {
   "cell_type": "code",
   "execution_count": 4,
   "metadata": {},
   "outputs": [],
   "source": [
    "def is_xmas(s: str, *, xmas=\"XMAS\") -> bool:\n",
    "    return s in {xmas, xmas[::-1]}\n",
    "\n",
    "def line_from(pos: complex, direction: complex, line_length: int = 4) -> list[complex]:\n",
    "    return [pos + (direction * i) for i in range(line_length)]\n",
    "\n",
    "def lines_from(pos: complex, line_length: int = 4) -> list[list[complex]]:\n",
    "    return [line_from(pos, d, line_length) for d in step_directions]\n",
    "\n",
    "def letter_at(pos: complex, grid):\n",
    "    return grid[int(pos.imag)][int(pos.real)]\n",
    "\n",
    "def line_is_xmas(line: list[complex], grid, *, xmas=\"XMAS\") -> bool:\n",
    "    # Disallow lines with negative indices (will incorrectly wrap around)\n",
    "    if any((pos.imag < 0) or (pos.real < 0) for pos in line):\n",
    "        return False\n",
    "\n",
    "    try:\n",
    "        letters = [letter_at(pos, grid) for pos in line]\n",
    "        return is_xmas(\"\".join(letters), xmas=xmas)\n",
    "    except IndexError:\n",
    "        # Not in bounds\n",
    "        return False"
   ]
  },
  {
   "cell_type": "code",
   "execution_count": 5,
   "metadata": {},
   "outputs": [],
   "source": [
    "def print_xmas_map(grid, keep_map: set[complex], fill_char=\".\"):\n",
    "    for y in range(len(grid)):\n",
    "        for x in range(len(grid[0])):\n",
    "            pos = x + y * 1j\n",
    "            if pos in keep_map:\n",
    "                c = letter_at(pos, grid)\n",
    "            else:\n",
    "                c = fill_char\n",
    "            print(c, end=\"\")\n",
    "        print()"
   ]
  },
  {
   "cell_type": "code",
   "execution_count": 6,
   "metadata": {},
   "outputs": [
    {
     "name": "stderr",
     "output_type": "stream",
     "text": [
      "100%|██████████| 10/10 [00:00<00:00, 14716.86it/s]\n"
     ]
    },
    {
     "data": {
      "text/plain": [
       "18"
      ]
     },
     "execution_count": 6,
     "metadata": {},
     "output_type": "execute_result"
    }
   ],
   "source": [
    "# Find all the Xs\n",
    "# From each X, check each direction\n",
    "# (if drawing a map, mark TRUE for each index included)\n",
    "xmas_score = 0\n",
    "xmas_map = set() # For fun and visualisation\n",
    "\n",
    "for y in tqdm(range(len(grid))):\n",
    "    for x in range(len(grid[0])):\n",
    "        if grid[y][x] == \"X\":\n",
    "            pos = x + y * 1j\n",
    "            for line in lines_from(pos):\n",
    "                if line_is_xmas(line, grid):\n",
    "                    # print(f\"{line} is XMAS!\")\n",
    "                    xmas_score += 1\n",
    "                    xmas_map.update(line)\n",
    "\n",
    "xmas_score"
   ]
  },
  {
   "cell_type": "code",
   "execution_count": 7,
   "metadata": {},
   "outputs": [
    {
     "name": "stdout",
     "output_type": "stream",
     "text": [
      "....XXMAS.\n",
      ".SAMXMS...\n",
      "...S..A...\n",
      "..A.A.MS.X\n",
      "XMASAMX.MM\n",
      "X.....XA.A\n",
      "S.S.S.S.SS\n",
      ".A.A.A.A.A\n",
      "..M.M.M.MM\n",
      ".X.X.XMASX\n"
     ]
    }
   ],
   "source": [
    "print_xmas_map(grid, xmas_map)"
   ]
  },
  {
   "cell_type": "code",
   "execution_count": 8,
   "metadata": {},
   "outputs": [
    {
     "name": "stderr",
     "output_type": "stream",
     "text": [
      "100%|██████████| 10/10 [00:00<00:00, 30885.89it/s]\n"
     ]
    },
    {
     "data": {
      "text/plain": [
       "9"
      ]
     },
     "execution_count": 8,
     "metadata": {},
     "output_type": "execute_result"
    }
   ],
   "source": [
    "## Part 2:\n",
    "# Find MAS in an X instead. Any direction of MAS accepted as long as there are 2 MAS\n",
    "# M.S\n",
    "# .A.\n",
    "# M.S\n",
    "cross_lines = [(-1-1j, 0, 1+1j), (1-1j, 0, -1+1j)]\n",
    "\n",
    "def cross_at(pos: complex) -> list[list[complex]]:\n",
    "    return [[pos + step for step in diagonal] for diagonal in cross_lines]\n",
    "\n",
    "mas_score = 0\n",
    "mas_map = set()\n",
    "for y in tqdm(range(len(grid))):\n",
    "    for x in range(len(grid[0])):\n",
    "        if grid[y][x] == \"A\":\n",
    "            pos = x + y * 1j\n",
    "            cross = cross_at(pos)\n",
    "            if all(line_is_xmas(diagonal, grid, xmas=\"MAS\") for diagonal in cross):\n",
    "                # print(f\"{cross} is X-MAS!\")\n",
    "                mas_score += 1\n",
    "                mas_map.update(pos for diagonal in cross for pos in diagonal)\n",
    "\n",
    "mas_score"
   ]
  },
  {
   "cell_type": "code",
   "execution_count": 9,
   "metadata": {},
   "outputs": [
    {
     "name": "stdout",
     "output_type": "stream",
     "text": [
      ".M.S......\n",
      "..A..MSMS.\n",
      ".M.S.MAA..\n",
      "..A.ASMSM.\n",
      ".M.S.M....\n",
      "..........\n",
      "S.S.S.S.S.\n",
      ".A.A.A.A..\n",
      "M.M.M.M.M.\n",
      "..........\n"
     ]
    }
   ],
   "source": [
    "print_xmas_map(grid, mas_map)"
   ]
  }
 ],
 "metadata": {
  "kernelspec": {
   "display_name": ".venv",
   "language": "python",
   "name": "python3"
  },
  "language_info": {
   "codemirror_mode": {
    "name": "ipython",
    "version": 3
   },
   "file_extension": ".py",
   "mimetype": "text/x-python",
   "name": "python",
   "nbconvert_exporter": "python",
   "pygments_lexer": "ipython3",
   "version": "3.13.0"
  }
 },
 "nbformat": 4,
 "nbformat_minor": 2
}
