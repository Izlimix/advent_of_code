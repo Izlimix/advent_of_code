{
 "cells": [
  {
   "cell_type": "code",
   "execution_count": 1,
   "metadata": {},
   "outputs": [],
   "source": [
    "from tqdm import tqdm"
   ]
  },
  {
   "cell_type": "code",
   "execution_count": 2,
   "metadata": {},
   "outputs": [],
   "source": [
    "filename = \"sample.txt\"\n",
    "# filename = \"input.txt\"\n",
    "with open(filename, encoding=\"utf-8\") as f:\n",
    "    data = f.read()\n",
    "\n",
    "lines = data.strip().split(\"\\n\")"
   ]
  },
  {
   "cell_type": "markdown",
   "metadata": {},
   "source": [
    "https://adventofcode.com/2024/day/2\n",
    "\n"
   ]
  },
  {
   "cell_type": "code",
   "execution_count": 3,
   "metadata": {},
   "outputs": [],
   "source": [
    "def is_strictly_increasing(ns) -> bool:\n",
    "    return all(a < b for a, b in zip(ns, ns[1:]))\n",
    "\n",
    "def is_strictly_decreasing(ns) -> bool:\n",
    "    return all(a > b for a, b in zip(ns, ns[1:]))\n",
    "\n",
    "def is_monotonic(ns) -> bool:\n",
    "    return is_strictly_increasing(ns) or is_strictly_decreasing(ns)\n",
    "\n",
    "def is_short_steps(ns, step_lo=1, step_hi=3) -> bool:\n",
    "    return all(step_lo <= abs(a - b) <= step_hi for a, b in zip(ns, ns[1:]))\n"
   ]
  },
  {
   "cell_type": "code",
   "execution_count": 4,
   "metadata": {},
   "outputs": [
    {
     "name": "stdout",
     "output_type": "stream",
     "text": [
      "Part 1: Safe reports = 2\n"
     ]
    }
   ],
   "source": [
    "## Part 1\n",
    "def is_safe_part1(report: str) -> bool:\n",
    "    levels = list(map(int, report.split()))\n",
    "    # Safe if ALL\n",
    "    # 1. all increasing or all decreasing (monotonic)\n",
    "    # 2. 1 <= delta <= 3\n",
    "    return is_monotonic(levels) and is_short_steps(levels, 1, 3)\n",
    "\n",
    "# part1_safe_reports = [l for l in lines if is_safe_part1(l)]\n",
    "# part1_safe_count = sum(1 for l in lines if is_safe_part1(l))\n",
    "# part1_safe_count\n",
    "part1_report_results = [(l, is_safe_part1(l)) for l in lines]\n",
    "part1_safe_count = sum(1 for _, is_safe in part1_report_results if is_safe)\n",
    "print(f\"Part 1: Safe reports = {part1_safe_count}\")"
   ]
  },
  {
   "cell_type": "code",
   "execution_count": 5,
   "metadata": {},
   "outputs": [
    {
     "name": "stderr",
     "output_type": "stream",
     "text": [
      "Reports: 100%|██████████| 4/4 [00:00<00:00, 8184.01it/s]"
     ]
    },
    {
     "name": "stdout",
     "output_type": "stream",
     "text": [
      "tolerated_report_count=2\n",
      "Part 2: Total safe reports = 4\n"
     ]
    },
    {
     "name": "stderr",
     "output_type": "stream",
     "text": [
      "\n"
     ]
    }
   ],
   "source": [
    "## Part 2:\n",
    "unsafe_reports = [l for l, is_safe in part1_report_results if not is_safe]\n",
    "\n",
    "# Problem dampener: 1 bad level can be removed from each report\n",
    "# (Need to make sure the 1 bad level is the same between checks)\n",
    "# Opt 1: Add tolerance param (=1) and return edited report if tolerance used?\n",
    "# Opt 2: Brute-force attempt -> try removing each of the elements before checking\n",
    "# 2a: dynamic programming-ish. 2 with caching\n",
    "\n",
    "def is_safe_part2(report: str) -> bool:\n",
    "    levels = list(map(int, report.split()))\n",
    "    # Opt 2: brute-force\n",
    "    for i in range(len(levels)):\n",
    "        # Skip element i\n",
    "        shortened_list = levels[:i] + levels[i+1:]\n",
    "        # print(shortened_list)\n",
    "        if is_monotonic(shortened_list) and is_short_steps(shortened_list, 1, 3):\n",
    "            return True\n",
    "    return False\n",
    "    \n",
    "tolerated_report_count = sum(1 for l in tqdm(unsafe_reports, desc=\"Reports\") if is_safe_part2(l))\n",
    "print(f\"{tolerated_report_count=}\")\n",
    "part2_safe_count = part1_safe_count + tolerated_report_count\n",
    "print(f\"Part 2: Total safe reports = {part2_safe_count}\")"
   ]
  },
  {
   "cell_type": "code",
   "execution_count": null,
   "metadata": {},
   "outputs": [],
   "source": []
  }
 ],
 "metadata": {
  "kernelspec": {
   "display_name": ".venv",
   "language": "python",
   "name": "python3"
  },
  "language_info": {
   "codemirror_mode": {
    "name": "ipython",
    "version": 3
   },
   "file_extension": ".py",
   "mimetype": "text/x-python",
   "name": "python",
   "nbconvert_exporter": "python",
   "pygments_lexer": "ipython3",
   "version": "3.13.0"
  }
 },
 "nbformat": 4,
 "nbformat_minor": 2
}
