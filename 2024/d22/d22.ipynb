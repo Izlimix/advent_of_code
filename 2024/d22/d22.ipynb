{
 "cells": [
  {
   "cell_type": "code",
   "execution_count": 1,
   "metadata": {},
   "outputs": [],
   "source": [
    "from functools import cache\n",
    "from collections import Counter\n",
    "from tqdm import tqdm"
   ]
  },
  {
   "cell_type": "code",
   "execution_count": 2,
   "metadata": {},
   "outputs": [],
   "source": [
    "# filename = \"sample.txt\"\n",
    "filename = \"sample2.txt\"\n",
    "# filename = \"input.txt\"\n",
    "with open(filename, encoding=\"utf-8\") as f:\n",
    "    data = f.read()\n",
    "\n",
    "lines = data.strip().split(\"\\n\")"
   ]
  },
  {
   "cell_type": "markdown",
   "metadata": {},
   "source": [
    "https://adventofcode.com/2024/day/22"
   ]
  },
  {
   "cell_type": "code",
   "execution_count": 3,
   "metadata": {},
   "outputs": [],
   "source": [
    "## Part 1\n",
    "# Given the seed, find the 2000th new secret number\n",
    "# These would definitely be quicker as bit-shifts\n",
    "def mix(n1, n2):\n",
    "    return n1 ^ n2\n",
    "\n",
    "def prune(n):\n",
    "    return n % 16777216\n",
    "\n",
    "@cache\n",
    "def evolve(n):\n",
    "    n = prune(mix(n, n * 64))\n",
    "    n = prune(mix(n, n // 32))\n",
    "    n = prune(mix(n, n * 2048))\n",
    "    return n\n"
   ]
  },
  {
   "cell_type": "code",
   "execution_count": 4,
   "metadata": {},
   "outputs": [],
   "source": [
    "# results = []\n",
    "# loops = 2000\n",
    "# for seed in tqdm(lines):\n",
    "#     secret = int(seed)\n",
    "#     for i in range(2000):\n",
    "#         secret = evolve(secret)\n",
    "#     results.append(secret)\n",
    "\n",
    "# sum(results)"
   ]
  },
  {
   "cell_type": "code",
   "execution_count": 5,
   "metadata": {},
   "outputs": [],
   "source": [
    "# Part 2\n",
    "# Option: Instead of precomputing the first value for all 4-sequences, we could save \"seen\" sequences and continue where we left off\n",
    "def price(secret):\n",
    "    return secret % 10\n",
    "\n",
    "def nwise(xs, n=4):\n",
    "    return (tuple(xs[i:i+n]) for i in range(len(xs) - n + 1))"
   ]
  },
  {
   "cell_type": "code",
   "execution_count": 6,
   "metadata": {},
   "outputs": [
    {
     "name": "stderr",
     "output_type": "stream",
     "text": [
      "100%|██████████| 4/4 [00:00<00:00, 126.12it/s]\n"
     ]
    },
    {
     "data": {
      "text/plain": [
       "37990510"
      ]
     },
     "execution_count": 6,
     "metadata": {},
     "output_type": "execute_result"
    }
   ],
   "source": [
    "loops = 2000\n",
    "monkeys = []\n",
    "p1_result = 0\n",
    "\n",
    "for seed in tqdm(lines):\n",
    "    secrets = [int(seed)]\n",
    "    for i in range(loops):\n",
    "        secrets.append(evolve(secrets[-1]))\n",
    "    p1_result += secrets[-1]\n",
    "    prices = [price(s) for s in secrets]\n",
    "\n",
    "    deltas = [n2 - n1 for n1, n2 in zip(prices, prices[1:])]\n",
    "    seqs = {}\n",
    "    for p, seq in zip(prices[4:], nwise(deltas)):\n",
    "        # The first price associated with each sequence\n",
    "        if seq not in seqs:\n",
    "            seqs[seq] = p\n",
    "    monkeys.append(seqs)\n",
    "\n",
    "p1_result"
   ]
  },
  {
   "cell_type": "code",
   "execution_count": 7,
   "metadata": {},
   "outputs": [
    {
     "data": {
      "text/plain": [
       "[((-2, 1, -1, 3), 23),\n",
       " ((-1, 3, 1, 0), 22),\n",
       " ((1, -3, 5, 1), 21),\n",
       " ((0, 5, 0, 0), 20),\n",
       " ((-5, 6, 0, -1), 20)]"
      ]
     },
     "execution_count": 7,
     "metadata": {},
     "output_type": "execute_result"
    }
   ],
   "source": [
    "# For each sequence, add up the total bananas from each monkey (or 0 if no seq)\n",
    "# Find the max total bananas\n",
    "total_bananas = Counter()\n",
    "for seq in monkeys:\n",
    "    c = Counter(seq)\n",
    "    total_bananas.update(c)\n",
    "total_bananas.most_common(5)"
   ]
  },
  {
   "cell_type": "code",
   "execution_count": 8,
   "metadata": {},
   "outputs": [
    {
     "data": {
      "text/plain": [
       "[((-2, 1, -1, 3), 23)]"
      ]
     },
     "execution_count": 8,
     "metadata": {},
     "output_type": "execute_result"
    }
   ],
   "source": [
    "total_bananas.most_common(1)"
   ]
  },
  {
   "cell_type": "code",
   "execution_count": null,
   "metadata": {},
   "outputs": [],
   "source": []
  }
 ],
 "metadata": {
  "kernelspec": {
   "display_name": ".venv",
   "language": "python",
   "name": "python3"
  },
  "language_info": {
   "codemirror_mode": {
    "name": "ipython",
    "version": 3
   },
   "file_extension": ".py",
   "mimetype": "text/x-python",
   "name": "python",
   "nbconvert_exporter": "python",
   "pygments_lexer": "ipython3",
   "version": "3.13.0"
  }
 },
 "nbformat": 4,
 "nbformat_minor": 2
}
