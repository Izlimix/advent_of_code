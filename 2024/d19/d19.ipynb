{
 "cells": [
  {
   "cell_type": "code",
   "execution_count": 1,
   "metadata": {},
   "outputs": [],
   "source": [
    "# import re\n",
    "from functools import cache\n",
    "from tqdm import tqdm"
   ]
  },
  {
   "cell_type": "code",
   "execution_count": 2,
   "metadata": {},
   "outputs": [],
   "source": [
    "filename = \"sample.txt\"\n",
    "# filename = \"input.txt\"\n",
    "with open(filename, encoding=\"utf-8\") as f:\n",
    "    data = f.read()\n",
    "\n",
    "raw_towels, raw_designs = data.strip().split(\"\\n\\n\")"
   ]
  },
  {
   "cell_type": "markdown",
   "metadata": {},
   "source": [
    "https://adventofcode.com/2024/day/19"
   ]
  },
  {
   "cell_type": "code",
   "execution_count": 3,
   "metadata": {},
   "outputs": [],
   "source": [
    "## Part 1\n",
    "# Using any number of each towel, try to exactly match each design\n",
    "# How many designs are possible?\n",
    "designs = raw_designs.split(\"\\n\")\n",
    "towels = raw_towels.split(\", \")\n",
    "\n",
    "# # Attempt 1:\n",
    "# # Let's make a cursed regex pattern\n",
    "# # -> Note: Very inefficient and fails on designs[2] in actual input\n",
    "# # A more performant (NFA-based) regex library would help, but there's definitely a better option here\n",
    "\n",
    "# possible_pattern = re.compile(rf\"^(?:{'|'.join(towels)})+$\")\n",
    "# result = 0\n",
    "# for design in tqdm(designs):a\n",
    "#     m = possible_pattern.fullmatch(design)\n",
    "#     if m:\n",
    "#         result += 1\n",
    "# result"
   ]
  },
  {
   "cell_type": "code",
   "execution_count": 4,
   "metadata": {},
   "outputs": [],
   "source": [
    "# Attempt 2:\n",
    "# Some form of caching with recursion?\n",
    "towel_set = frozenset(towels)\n",
    "@cache\n",
    "def is_possible(towels: frozenset, design: str) -> bool:\n",
    "    if not design:\n",
    "        # Built the whole design!\n",
    "        return True\n",
    "    \n",
    "    for t in towels:\n",
    "        if design.startswith(t):\n",
    "            if is_possible(towels, design.removeprefix(t)):\n",
    "                return True\n",
    "    return False\n"
   ]
  },
  {
   "cell_type": "code",
   "execution_count": 5,
   "metadata": {},
   "outputs": [
    {
     "name": "stderr",
     "output_type": "stream",
     "text": [
      "100%|██████████| 8/8 [00:00<00:00, 9200.56it/s]\n"
     ]
    },
    {
     "data": {
      "text/plain": [
       "6"
      ]
     },
     "execution_count": 5,
     "metadata": {},
     "output_type": "execute_result"
    }
   ],
   "source": [
    "result = 0\n",
    "for design in tqdm(designs):\n",
    "    if is_possible(towel_set, design):\n",
    "        result += 1\n",
    "result"
   ]
  },
  {
   "cell_type": "code",
   "execution_count": 6,
   "metadata": {},
   "outputs": [],
   "source": [
    "## Part 2\n",
    "@cache\n",
    "def n_ways(towels: frozenset, design: str) -> int:\n",
    "    if not design:\n",
    "        # Built the whole design!\n",
    "        return 1\n",
    "    result = 0\n",
    "    for t in towels:\n",
    "        if design.startswith(t):\n",
    "            result += n_ways(towels, design.removeprefix(t))\n",
    "    return result"
   ]
  },
  {
   "cell_type": "code",
   "execution_count": 7,
   "metadata": {},
   "outputs": [
    {
     "name": "stderr",
     "output_type": "stream",
     "text": [
      "100%|██████████| 8/8 [00:00<00:00, 10682.72it/s]\n"
     ]
    },
    {
     "data": {
      "text/plain": [
       "16"
      ]
     },
     "execution_count": 7,
     "metadata": {},
     "output_type": "execute_result"
    }
   ],
   "source": [
    "# I'm honestly surprised this solution is performant enough for p2, but I'll take it\n",
    "results = []\n",
    "for design in tqdm(designs):\n",
    "    results.append(n_ways(towel_set, design))\n",
    "sum(results)"
   ]
  },
  {
   "cell_type": "code",
   "execution_count": 8,
   "metadata": {},
   "outputs": [
    {
     "data": {
      "text/plain": [
       "6"
      ]
     },
     "execution_count": 8,
     "metadata": {},
     "output_type": "execute_result"
    }
   ],
   "source": [
    "# We can complete part 1 and 2 in a single loop over all designs with n_ways\n",
    "sum(1 for r in results if r > 0)"
   ]
  }
 ],
 "metadata": {
  "kernelspec": {
   "display_name": ".venv",
   "language": "python",
   "name": "python3"
  },
  "language_info": {
   "codemirror_mode": {
    "name": "ipython",
    "version": 3
   },
   "file_extension": ".py",
   "mimetype": "text/x-python",
   "name": "python",
   "nbconvert_exporter": "python",
   "pygments_lexer": "ipython3",
   "version": "3.13.0"
  }
 },
 "nbformat": 4,
 "nbformat_minor": 2
}
