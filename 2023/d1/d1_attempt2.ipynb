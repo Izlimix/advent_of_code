{
 "cells": [
  {
   "cell_type": "code",
   "execution_count": 1,
   "metadata": {},
   "outputs": [],
   "source": [
    "import re\n",
    "\n",
    "filename = \"input.txt\"\n",
    "with open(filename, encoding=\"utf-8\") as f:\n",
    "    data = f.read()\n",
    "\n",
    "lines = data.strip().split(\"\\n\")"
   ]
  },
  {
   "cell_type": "code",
   "execution_count": 2,
   "metadata": {},
   "outputs": [
    {
     "name": "stdout",
     "output_type": "stream",
     "text": [
      "pattern='(\\\\d|one|two|three|four|five|six|seven|eight|nine)'\n",
      "values={'one': 1, 'two': 2, 'three': 3, 'four': 4, 'five': 5, 'six': 6, 'seven': 7, 'eight': 8, 'nine': 9, 'eno': 1, 'owt': 2, 'eerht': 3, 'ruof': 4, 'evif': 5, 'xis': 6, 'neves': 7, 'thgie': 8, 'enin': 9}\n",
      "back_pattern='(\\\\d|enin|thgie|neves|xis|evif|ruof|eerht|owt|eno)'\n"
     ]
    }
   ],
   "source": [
    "# Part 2 attempt 2: Just search for the first value from both ends\n",
    "# This solution isn't quite as clean, but oh well. \n",
    "# Trying to reverse the pattern was fun, and searching for the first value is more straightforward than substituting\n",
    "\n",
    "# How much is each word worth?\n",
    "digit_strings = \"one|two|three|four|five|six|seven|eight|nine\"\n",
    "values = dict((s, i) for (i, s) in enumerate(digit_strings.split(\"|\"), 1))\n",
    "# Pattern that matches each digit or \"digit\"\n",
    "pattern = rf\"(\\d|{digit_strings})\"\n",
    "print(f\"{pattern=}\")\n",
    "\n",
    "# Again, but backwards!\n",
    "values.update({k[::-1]: v for (k, v) in values.items()})\n",
    "print(f\"{values=}\")\n",
    "# Unfortunately reversing \"()\" gives \")(\" unbalanced parens\n",
    "back_pattern = rf\"(\\d|{digit_strings[::-1]})\"\n",
    "print(f\"{back_pattern=}\")"
   ]
  },
  {
   "cell_type": "code",
   "execution_count": 3,
   "metadata": {},
   "outputs": [],
   "source": [
    "def first_digit(s: str, pat: str):\n",
    "    d = re.search(pat, s).group(0)\n",
    "    # Parse the digit if it was a word\n",
    "    d = values.get(d, d)\n",
    "    return int(d)"
   ]
  },
  {
   "cell_type": "code",
   "execution_count": 4,
   "metadata": {},
   "outputs": [],
   "source": [
    "def line_value(l: str):\n",
    "    # First digit from the left\n",
    "    d1 = first_digit(l, pattern)\n",
    "    # First digit from the right\n",
    "    d2 = first_digit(l[::-1], back_pattern)\n",
    "    return d1 * 10 + d2"
   ]
  },
  {
   "cell_type": "code",
   "execution_count": 5,
   "metadata": {},
   "outputs": [
    {
     "name": "stdout",
     "output_type": "stream",
     "text": [
      "Part 2 result: 55701\n"
     ]
    }
   ],
   "source": [
    "# Result\n",
    "r = sum(line_value(l) for l in lines)\n",
    "print(f\"Part 2 result: {r}\")"
   ]
  }
 ],
 "metadata": {
  "kernelspec": {
   "display_name": ".venv",
   "language": "python",
   "name": "python3"
  },
  "language_info": {
   "codemirror_mode": {
    "name": "ipython",
    "version": 3
   },
   "file_extension": ".py",
   "mimetype": "text/x-python",
   "name": "python",
   "nbconvert_exporter": "python",
   "pygments_lexer": "ipython3",
   "version": "3.12.0"
  }
 },
 "nbformat": 4,
 "nbformat_minor": 2
}
