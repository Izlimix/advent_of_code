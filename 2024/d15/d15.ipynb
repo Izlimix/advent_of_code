{
 "cells": [
  {
   "cell_type": "code",
   "execution_count": 1,
   "metadata": {},
   "outputs": [],
   "source": [
    "from typing import Self\n",
    "from dataclasses import dataclass\n",
    "from tqdm import tqdm"
   ]
  },
  {
   "cell_type": "code",
   "execution_count": 2,
   "metadata": {},
   "outputs": [],
   "source": [
    "filename = \"sample.txt\"\n",
    "# filename = \"sample2.txt\"\n",
    "# filename = \"sample3.txt\"\n",
    "# filename = \"input.txt\"\n",
    "with open(filename, encoding=\"utf-8\") as f:\n",
    "    data = f.read()\n",
    "\n",
    "raw_grid, raw_moves = data.strip().split(\"\\n\\n\")\n",
    "grid_lines = raw_grid.split(\"\\n\")\n",
    "moves = raw_moves.replace(\"\\n\", \"\")"
   ]
  },
  {
   "cell_type": "markdown",
   "metadata": {},
   "source": [
    "https://adventofcode.com/2024/day/15\n",
    "- Definitely overcomplicated this one. Probably would have been simpler to hard-code BigBox linking and movement (e.g. store as 1 Entity with 2 positions?)\n",
    "- Baba is You, Sokoban is Pain"
   ]
  },
  {
   "cell_type": "code",
   "execution_count": 3,
   "metadata": {},
   "outputs": [],
   "source": [
    "start_pos = None\n",
    "walls = set()\n",
    "start_boxes = set()\n",
    "for y, line in enumerate(grid_lines):\n",
    "    for x, c in enumerate(line):\n",
    "        pos = complex(x, y)\n",
    "        match c:\n",
    "            case '#':\n",
    "                walls.add(pos)\n",
    "            case '@':\n",
    "                start_pos = pos\n",
    "            case 'O':\n",
    "                start_boxes.add(pos)\n",
    "            case '.':\n",
    "                pass\n",
    "            case _:\n",
    "                print(f\"Unknown character {c=} at {pos=}\")\n"
   ]
  },
  {
   "cell_type": "code",
   "execution_count": 4,
   "metadata": {},
   "outputs": [],
   "source": [
    "@dataclass\n",
    "class Entity:\n",
    "    pos: complex\n",
    "    symbol: str\n",
    "    \n",
    "    def move(self, grid: dict[complex, Self], next_pos: complex):\n",
    "        # Move without checking\n",
    "        grid[next_pos] = self\n",
    "        del grid[self.pos]\n",
    "        self.pos = next_pos\n",
    "\n",
    "    def is_pushable(self, grid: dict[complex, Self], step: complex) -> bool:\n",
    "        # For part 2: Look before we move the boxes\n",
    "        next_pos = self.pos + step\n",
    "        if next_pos == self.pos:\n",
    "            raise NotImplementedError(f\"{self} planning move of {step} from {self.pos} and stayed in place\")\n",
    "        \n",
    "        # Check if next pos is occupied. If it is, try and push it\n",
    "        if next_pos in grid:\n",
    "            push_successful = grid[next_pos].is_pushable(grid, step)\n",
    "            if not push_successful:\n",
    "                return False\n",
    "        # There's free space, can move into that spot\n",
    "        return True\n",
    "    \n",
    "    def push(self, grid: dict[complex, Self], step: complex) -> bool:\n",
    "        next_pos = self.pos + step\n",
    "        if next_pos == self.pos:\n",
    "            raise NotImplementedError(f\"{self} moved {step} from {self.pos} and stayed in place\")\n",
    "        \n",
    "        # Check if next pos is occupied. If it is, try and push it\n",
    "        if next_pos in grid:\n",
    "            push_successful = grid[next_pos].push(grid, step)\n",
    "            if not push_successful:\n",
    "                return False\n",
    "            \n",
    "        # There's free space, move into that spot\n",
    "        self.move(grid, next_pos)\n",
    "        return True\n",
    "    \n",
    "    def gps(self) -> int:\n",
    "        return 0\n",
    "\n",
    "@dataclass\n",
    "class Wall(Entity):\n",
    "    symbol: str = '#'\n",
    "    \n",
    "    def is_pushable(self, grid: dict[complex, Entity], step: complex) -> bool:\n",
    "        return False\n",
    "\n",
    "    def push(self, grid: dict[complex, Entity], step: complex) -> bool:\n",
    "        # Can't push a wall\n",
    "        return False\n",
    "    \n",
    "@dataclass\n",
    "class Box(Entity):\n",
    "    symbol: str = 'O'\n",
    "    \n",
    "    def gps(self) -> int:\n",
    "        return int(self.pos.real + 100 * self.pos.imag)\n",
    "    \n",
    "@dataclass\n",
    "class BigBox(Entity):\n",
    "    symbol: str = 'B'\n",
    "    linked: list[Self] = None\n",
    "\n",
    "    def __post_init__(self):\n",
    "        if self.linked is None:\n",
    "            self.linked = []\n",
    "\n",
    "    def _linked_positions(self):\n",
    "        return [e.pos for e in self.linked]\n",
    "    \n",
    "    def gps(self) -> int:\n",
    "        if self.symbol == '[':\n",
    "            return int(self.pos.real + 100 * self.pos.imag)\n",
    "        return 0\n",
    "\n",
    "    def is_pushable(self, grid: dict[complex, Entity], step: complex, *, check_linked=True) -> bool:\n",
    "        # For part 2: Look before we move the boxes\n",
    "        next_pos = self.pos + step\n",
    "        if next_pos == self.pos:\n",
    "            raise NotImplementedError(f\"{self} planning move of {step} from {self.pos} and stayed in place\")\n",
    "        \n",
    "        # Check if next pos is occupied. If it is, try and push it\n",
    "        # If next pos is part of this Big Box, skip this step - if that half can move, then so can this\n",
    "        if (next_pos in grid) and (next_pos not in self._linked_positions()):\n",
    "            push_successful = grid[next_pos].is_pushable(grid, step)\n",
    "            if not push_successful:\n",
    "                return False\n",
    "            \n",
    "        # Make sure all linked parts to this box can move too\n",
    "        if check_linked:\n",
    "            for box in self.linked:\n",
    "                push_successful = box.is_pushable(grid, step, check_linked=False)\n",
    "                if not push_successful:\n",
    "                    return False\n",
    "        # There's free space, can move into that spot\n",
    "        return True\n",
    "    \n",
    "\n",
    "    def push(self, grid: dict[complex, Self], step: complex, *, push_linked=True) -> bool:\n",
    "        next_pos = self.pos + step\n",
    "        if next_pos == self.pos:\n",
    "            raise NotImplementedError(f\"{self} moved {step} from {self.pos} and stayed in place\")\n",
    "        \n",
    "        # Check if next pos is occupied. If it is, push it\n",
    "        # If next pos is part of this Big Box, skip - don't push it twice\n",
    "        if (next_pos in grid) and (next_pos not in self._linked_positions()):\n",
    "            push_successful = grid[next_pos].push(grid, step)\n",
    "            if not push_successful:\n",
    "                return False\n",
    "\n",
    "        # Push linked boxes\n",
    "        if push_linked:\n",
    "            for box in self.linked:\n",
    "                push_successful = box.push(grid, step, push_linked=False)\n",
    "                if not push_successful:\n",
    "                    return False\n",
    "                        \n",
    "        # There's free space, move into that spot\n",
    "        # ~~Note: self may overlap with linked boxes during this step~~ # TODO check?\n",
    "        self.move(grid, next_pos)\n",
    "\n",
    "        return True\n",
    "\n",
    "@dataclass\n",
    "class Robot(Entity):\n",
    "    symbol: str = '@'\n",
    "\n",
    "@dataclass\n",
    "class Warehouse:\n",
    "    grid: dict[complex, Entity]\n",
    "    robot: Robot\n",
    "\n",
    "    def move_robot(self, step: complex, *, check_first: bool = False) -> bool:\n",
    "        if check_first:\n",
    "            pushable = self.robot.is_pushable(self.grid, step)\n",
    "            if not pushable:\n",
    "                return False\n",
    "        return self.robot.push(self.grid, step)\n",
    "    \n",
    "    def gps(self) -> int:\n",
    "        return sum(e.gps() for e in self.grid.values())\n",
    "\n",
    "def create_entities(walls, boxes, robot, big_boxes=[]) -> Warehouse:\n",
    "    grid = dict()\n",
    "    for pos in walls:\n",
    "        grid[pos] = Wall(pos)\n",
    "    for pos in boxes:\n",
    "        grid[pos] = Box(pos)\n",
    "    for pos1, pos2 in big_boxes:\n",
    "        box_left = BigBox(pos1, '[')\n",
    "        box_right = BigBox(pos2, ']')\n",
    "        box_left.linked.append(box_right)\n",
    "        box_right.linked.append(box_left)\n",
    "        grid[pos1] = box_left\n",
    "        grid[pos2] = box_right\n",
    "    grid[robot] = Robot(robot)\n",
    "    return Warehouse(grid, grid[robot])\n",
    "\n",
    "def visualise(grid, x_hi, y_hi):\n",
    "    for y in range(y_hi):\n",
    "        for x in range(x_hi):\n",
    "            entity = grid.get(complex(x, y))\n",
    "            symbol = entity.symbol if entity else '.'\n",
    "            print(symbol, end=\"\")\n",
    "        print()"
   ]
  },
  {
   "cell_type": "code",
   "execution_count": 5,
   "metadata": {},
   "outputs": [],
   "source": [
    "def parse_step(c: str) -> complex:\n",
    "    match c:\n",
    "        case '>':\n",
    "            return 1\n",
    "        case 'v':\n",
    "            return 1j\n",
    "        case '<':\n",
    "            return -1\n",
    "        case '^':\n",
    "            return -1j\n"
   ]
  },
  {
   "cell_type": "code",
   "execution_count": 6,
   "metadata": {},
   "outputs": [
    {
     "name": "stderr",
     "output_type": "stream",
     "text": [
      "100%|██████████| 700/700 [00:00<00:00, 732355.40it/s]"
     ]
    },
    {
     "name": "stdout",
     "output_type": "stream",
     "text": [
      "##########\n",
      "#.O.O.OOO#\n",
      "#........#\n",
      "#OO......#\n",
      "#OO@.....#\n",
      "#O#.....O#\n",
      "#O.....OO#\n",
      "#O.....OO#\n",
      "#OO....OO#\n",
      "##########\n"
     ]
    },
    {
     "name": "stderr",
     "output_type": "stream",
     "text": [
      "\n"
     ]
    },
    {
     "data": {
      "text/plain": [
       "10092"
      ]
     },
     "execution_count": 6,
     "metadata": {},
     "output_type": "execute_result"
    }
   ],
   "source": [
    "## Part 1\n",
    "warehouse = create_entities(walls, start_boxes, start_pos)\n",
    "x_hi, y_hi = len(grid_lines[0]), len(grid_lines)\n",
    "for i, c in enumerate(tqdm(moves), 1):\n",
    "    step = parse_step(c)\n",
    "    warehouse.move_robot(step)\n",
    "\n",
    "visualise(warehouse.grid, x_hi, y_hi)\n",
    "warehouse.gps()"
   ]
  },
  {
   "cell_type": "code",
   "execution_count": 7,
   "metadata": {},
   "outputs": [
    {
     "name": "stderr",
     "output_type": "stream",
     "text": [
      "100%|██████████| 700/700 [00:00<00:00, 420692.48it/s]"
     ]
    },
    {
     "name": "stdout",
     "output_type": "stream",
     "text": [
      "####################\n",
      "##[].......[].[][]##\n",
      "##[]...........[].##\n",
      "##[]........[][][]##\n",
      "##[]......[]....[]##\n",
      "##..##......[]....##\n",
      "##..[]............##\n",
      "##..@......[].[][]##\n",
      "##......[][]..[]..##\n",
      "####################\n"
     ]
    },
    {
     "name": "stderr",
     "output_type": "stream",
     "text": [
      "\n"
     ]
    },
    {
     "data": {
      "text/plain": [
       "9021"
      ]
     },
     "execution_count": 7,
     "metadata": {},
     "output_type": "execute_result"
    }
   ],
   "source": [
    "## Part 2\n",
    "# Big warehouse! Everything except the robot is 2x as big\n",
    "# Big boxes can push 2 others at the same time\n",
    "# Note: All the boxes stay in place if any is blocked!\n",
    "p2_walls = {complex(pos.real * 2 + off, pos.imag) for pos in walls for off in (0, 1)}\n",
    "p2_boxes = {tuple(complex(pos.real * 2 + off, pos.imag) for off in (0, 1)) for pos in start_boxes}\n",
    "p2_start_pos = complex(start_pos.real * 2, start_pos.imag)\n",
    "p2_warehouse = create_entities(p2_walls, [], p2_start_pos, p2_boxes)\n",
    "for i, c in enumerate(tqdm(moves), 1):\n",
    "    step = parse_step(c)\n",
    "    p2_warehouse.move_robot(step, check_first=True)\n",
    "\n",
    "visualise(p2_warehouse.grid, x_hi * 2, y_hi)\n",
    "p2_warehouse.gps()"
   ]
  },
  {
   "cell_type": "code",
   "execution_count": null,
   "metadata": {},
   "outputs": [],
   "source": []
  }
 ],
 "metadata": {
  "kernelspec": {
   "display_name": ".venv",
   "language": "python",
   "name": "python3"
  },
  "language_info": {
   "codemirror_mode": {
    "name": "ipython",
    "version": 3
   },
   "file_extension": ".py",
   "mimetype": "text/x-python",
   "name": "python",
   "nbconvert_exporter": "python",
   "pygments_lexer": "ipython3",
   "version": "3.13.0"
  }
 },
 "nbformat": 4,
 "nbformat_minor": 2
}
