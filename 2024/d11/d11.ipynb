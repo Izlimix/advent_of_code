{
 "cells": [
  {
   "cell_type": "code",
   "execution_count": 1,
   "metadata": {},
   "outputs": [],
   "source": [
    "from collections import Counter\n",
    "from tqdm import tqdm"
   ]
  },
  {
   "cell_type": "code",
   "execution_count": 2,
   "metadata": {},
   "outputs": [],
   "source": [
    "filename = \"sample.txt\"\n",
    "# filename = \"input.txt\"\n",
    "with open(filename, encoding=\"utf-8\") as f:\n",
    "    data = f.read()\n",
    "\n",
    "initial_stones = list(map(int, data.strip().split(\" \")))"
   ]
  },
  {
   "cell_type": "markdown",
   "metadata": {},
   "source": [
    "https://adventofcode.com/2024/day/11"
   ]
  },
  {
   "cell_type": "code",
   "execution_count": 3,
   "metadata": {},
   "outputs": [],
   "source": [
    "## Part 1\n",
    "# Every blink, the stones simultaneously pick the first applicable rule to change\n",
    "# After 25 blinks, how many stones are there?\n",
    "def mutate(n: int) -> tuple[int]:\n",
    "    # Pick the first applicable rule\n",
    "    # 0 becomes 1\n",
    "    if n == 0:\n",
    "        return (1,)\n",
    "    \n",
    "    # Even digits split into 2 stones\n",
    "    str_n = str(n)\n",
    "    l = len(str_n)\n",
    "    if (l % 2) == 0:\n",
    "        midpoint = l // 2\n",
    "        return (int(str_n[:midpoint]), int(str_n[midpoint:]))\n",
    "    \n",
    "    # Stone *= 2024\n",
    "    return (n * 2024,)\n",
    "\n",
    "def mutate_stones(ns: list[int]) -> list[int]:\n",
    "    return [x for n in ns for x in mutate(n)]\n",
    "\n",
    "def mutate_stones_dict(stones: Counter[int, int]) -> Counter[int, int]:\n",
    "    result = Counter()\n",
    "    for stone, n in stones.items():\n",
    "        for x in mutate(stone):\n",
    "            result.update({x: n})\n",
    "    return result"
   ]
  },
  {
   "cell_type": "code",
   "execution_count": 4,
   "metadata": {},
   "outputs": [
    {
     "name": "stderr",
     "output_type": "stream",
     "text": [
      "Blinks: 100%|██████████| 25/25 [00:00<00:00, 10890.90it/s]\n"
     ]
    },
    {
     "data": {
      "text/plain": [
       "55312"
      ]
     },
     "execution_count": 4,
     "metadata": {},
     "output_type": "execute_result"
    }
   ],
   "source": [
    "# stones = initial_stones.copy()\n",
    "stones = Counter(initial_stones)\n",
    "for i in tqdm(range(25), desc=\"Blinks\"):\n",
    "    # stones = mutate_stones(stones)\n",
    "    stones = mutate_stones_dict(stones)\n",
    "    # print(f\"Blink {i+1}: {len(stones)=}\")\n",
    "    # print(f\"Blink {i+1}: {stones.total()}\")\n",
    "\n",
    "# len(stones)\n",
    "stones.total()"
   ]
  },
  {
   "cell_type": "code",
   "execution_count": 5,
   "metadata": {},
   "outputs": [
    {
     "name": "stderr",
     "output_type": "stream",
     "text": [
      "Blinks: 100%|██████████| 75/75 [00:00<00:00, 7020.62it/s]\n"
     ]
    },
    {
     "data": {
      "text/plain": [
       "65601038650482"
      ]
     },
     "execution_count": 5,
     "metadata": {},
     "output_type": "execute_result"
    }
   ],
   "source": [
    "## Part 2:\n",
    "# Blink 75 times instead\n",
    "# It turns out the order doesn't matter. Let's try making a dict of values instead!\n",
    "# Using a dict means 1000 stones that say 1 takes only 1 call, not 1000\n",
    "stones = Counter(initial_stones)\n",
    "for i in tqdm(range(75), desc=\"Blinks\"):\n",
    "    stones = mutate_stones_dict(stones)\n",
    "    # print(f\"Blink {i+1}: {stones.total()}\")\n",
    "\n",
    "stones.total()"
   ]
  }
 ],
 "metadata": {
  "kernelspec": {
   "display_name": ".venv",
   "language": "python",
   "name": "python3"
  },
  "language_info": {
   "codemirror_mode": {
    "name": "ipython",
    "version": 3
   },
   "file_extension": ".py",
   "mimetype": "text/x-python",
   "name": "python",
   "nbconvert_exporter": "python",
   "pygments_lexer": "ipython3",
   "version": "3.13.0"
  }
 },
 "nbformat": 4,
 "nbformat_minor": 2
}
