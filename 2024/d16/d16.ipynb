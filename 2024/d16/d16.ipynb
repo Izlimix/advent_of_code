{
 "cells": [
  {
   "cell_type": "code",
   "execution_count": 1,
   "metadata": {},
   "outputs": [],
   "source": [
    "import math\n",
    "import itertools\n",
    "from queue import PriorityQueue\n",
    "from collections import defaultdict, deque\n",
    "from dataclasses import dataclass, field"
   ]
  },
  {
   "cell_type": "code",
   "execution_count": 2,
   "metadata": {},
   "outputs": [],
   "source": [
    "# filename = \"sample.txt\"\n",
    "filename = \"sample2.txt\"\n",
    "# filename = \"input.txt\"\n",
    "with open(filename, encoding=\"utf-8\") as f:\n",
    "    data = f.read()\n",
    "\n",
    "lines = data.strip().split(\"\\n\")"
   ]
  },
  {
   "cell_type": "markdown",
   "metadata": {},
   "source": [
    "https://adventofcode.com/2024/day/16\n",
    "\n",
    "Very rough code today, but at least it works!"
   ]
  },
  {
   "cell_type": "code",
   "execution_count": 3,
   "metadata": {},
   "outputs": [],
   "source": [
    "maze = set()\n",
    "for y, line in enumerate(lines):\n",
    "    for x, c in enumerate(line):\n",
    "        pos = complex(x, y)\n",
    "        match c:\n",
    "            case \"#\":\n",
    "                # A wall is functionally the same as a hole\n",
    "                continue\n",
    "            case \"S\":\n",
    "                start_pos = pos\n",
    "            case \"E\":\n",
    "                end_pos = pos\n",
    "        maze.add(pos)\n"
   ]
  },
  {
   "cell_type": "code",
   "execution_count": 4,
   "metadata": {},
   "outputs": [],
   "source": [
    "def dist(p1: complex, p2: complex) -> float:\n",
    "    d = p2 - p1\n",
    "    return abs(d.real) + abs(d.imag)\n",
    "\n",
    "def turn_dist(p1: complex, facing: complex, p2: complex) -> int:\n",
    "    # Relative direction of end from start\n",
    "    d = p2 - p1\n",
    "    # For each axis, we're aligned if diff=0, or facing the right direction if sign(facing) matches sign(diff)\n",
    "    # X\n",
    "    if d.real == 0:\n",
    "        x_turn = 0\n",
    "    elif facing.real == 0:\n",
    "        x_turn = 1\n",
    "    elif math.copysign(1, d.real) == facing.real:\n",
    "        x_turn = 0\n",
    "    else:\n",
    "        # Facing directly opposite, 2x 90deg turns\n",
    "        x_turn = 2\n",
    "    # Y\n",
    "    if d.imag == 0:\n",
    "        y_turn = 0\n",
    "    elif facing.imag == 0:\n",
    "        y_turn = 1\n",
    "    elif math.copysign(1, d.imag) == facing.imag:\n",
    "        y_turn = 0\n",
    "    else:\n",
    "        y_turn = 2\n",
    "\n",
    "    return max(x_turn, y_turn)\n",
    "\n",
    "def estimated_cost(pos: complex, facing: complex, end: complex) -> int:\n",
    "    return int(dist(pos, end) + 1000 * turn_dist(pos, facing, end))"
   ]
  },
  {
   "cell_type": "code",
   "execution_count": 5,
   "metadata": {},
   "outputs": [],
   "source": [
    "@dataclass(order=True)\n",
    "class Cell:\n",
    "    priority: int\n",
    "    score: int=field(compare=False)\n",
    "    pos: complex=field(compare=False)\n",
    "    facing: complex=field(compare=False)\n",
    "    path: list=field(default_factory=list, compare=False)\n",
    "\n",
    "def turns(facing: complex) -> list[tuple[int, complex]]:\n",
    "    return [(1, facing * -1j), (1, facing * 1j), (2, facing * -1)]\n",
    "\n",
    "def next_steps(maze: set[complex], start: complex, facing: complex) -> list[tuple[int, complex]]:\n",
    "    out = []\n",
    "    for i in itertools.count(1):\n",
    "        pos = start + facing * i\n",
    "        if pos not in maze:\n",
    "            break\n",
    "        out.append((i, pos))\n",
    "    return out\n",
    "\n",
    "def a_star_bests(maze: set[complex], start: complex, facing: complex, end: complex):\n",
    "    \"\"\"\n",
    "    Note: Works for Part 1, but fails for part 2. Two major issues:\n",
    "    1. This prunes all alternate paths to intermediate nodes using the seen set\n",
    "      (The final paths returned probably only differ by the final node the destination is approached from)\n",
    "    2. Since this takes big leaps at every step, it doesn't get all intermediate nodes in the line\n",
    "    \"\"\"\n",
    "    candidates = PriorityQueue()\n",
    "    seen = set()\n",
    "    best_score = None\n",
    "    candidates.put(Cell(0, 0, start, facing, [(start, facing)]))\n",
    "    while not candidates.empty():\n",
    "        cell = candidates.get()\n",
    "        if (cell.pos, cell.facing) in seen:\n",
    "            continue\n",
    "        \n",
    "        # Part 2: Keep going until we've found ALL best paths\n",
    "        if (best_score is not None) and (cell.score > best_score):\n",
    "            return\n",
    "\n",
    "        if cell.pos == end:\n",
    "            if best_score is None:\n",
    "                print(f\"Reached goal in {len(cell.path)} moves, {cell.score=}\")\n",
    "                best_score = cell.score\n",
    "            yield cell\n",
    "            # Nowhere to go from end\n",
    "            # Don't add end cell to seen set!\n",
    "            continue\n",
    "\n",
    "        seen.add((cell.pos, cell.facing))\n",
    "        \n",
    "        # Try cells which we can reach from this one\n",
    "        # Turns\n",
    "        for i, new_facing in turns(cell.facing):\n",
    "            score = cell.score + 1000 * i\n",
    "            est_dist = estimated_cost(cell.pos, new_facing, end)\n",
    "            candidates.put(Cell(score + est_dist, score, cell.pos, new_facing, cell.path + [(cell.pos, new_facing)]))\n",
    "        # Steps\n",
    "        for i, new_pos in next_steps(maze, cell.pos, cell.facing):\n",
    "            score = cell.score + i\n",
    "            est_dist = estimated_cost(new_pos, cell.facing, end)\n",
    "            candidates.put(Cell(score + est_dist, score, new_pos, cell.facing, cell.path + [(new_pos, cell.facing)]))\n",
    "    print(f\"A* couldn't find a path to {end}\")\n",
    "\n"
   ]
  },
  {
   "cell_type": "code",
   "execution_count": 6,
   "metadata": {},
   "outputs": [
    {
     "name": "stdout",
     "output_type": "stream",
     "text": [
      "Reached goal in 30 moves, cell.score=11048\n"
     ]
    },
    {
     "data": {
      "text/plain": [
       "11048"
      ]
     },
     "execution_count": 6,
     "metadata": {},
     "output_type": "execute_result"
    }
   ],
   "source": [
    "## Part 1\n",
    "# Pathfinding through a maze! What's the cost of the shortest path?\n",
    "# Step forwards = 1 point, turn 90 degrees = 1000 points\n",
    "# Start on S, facing East. Reach E (any direction)\n",
    "a_star_generator = a_star_bests(maze, start_pos, 1, end_pos)\n",
    "result = next(a_star_generator)\n",
    "result.score"
   ]
  },
  {
   "cell_type": "code",
   "execution_count": 7,
   "metadata": {},
   "outputs": [],
   "source": [
    "## Part 2\n",
    "# How many tiles are part of at least one of the best paths through the maze?\n",
    "# Get all best paths, then take unique cell positions from all paths\n",
    "# best_results = [result]\n",
    "# best_results.extend(a_star_generator)\n",
    "# len(best_results)"
   ]
  },
  {
   "cell_type": "code",
   "execution_count": 8,
   "metadata": {},
   "outputs": [],
   "source": [
    "## Attempt 2\n",
    "# Take 1 step/turn at a time\n",
    "# Track alternate min-length routes to intermediate nodes \n",
    "# Instead of tracking full route to each cell, just keep the set of predecessor nodes\n",
    "# To trace the full path, repeatedly get the set of predecessors until we reach start\n",
    "def find_bests(maze: set[complex], start: complex, facing: complex, end: complex):\n",
    "    best_end = None\n",
    "    best_scores = {(start, facing): 0}\n",
    "    predecessors = defaultdict(list)\n",
    "\n",
    "    candidates = PriorityQueue()\n",
    "    candidates.put(Cell(0, 0, start, facing, [None, (start, facing)]))\n",
    "    while not candidates.empty():\n",
    "        cell = candidates.get()\n",
    "        if (best_end is not None) and (cell.score > best_end):\n",
    "            # Already exceeded max score\n",
    "            break\n",
    "        if (cell.pos, cell.facing) in best_scores:\n",
    "            if cell.score > best_scores[(cell.pos, cell.facing)]:\n",
    "                # Not as good as best so far for this cell\n",
    "                continue\n",
    "        \n",
    "        best_scores[(cell.pos, cell.facing)] = cell.score\n",
    "        predecessors[(cell.pos, cell.facing)].append(cell.path[-2])\n",
    "\n",
    "        if cell.pos == end:\n",
    "            print(f\"Reached goal in {len(cell.path)} moves, {cell.score=}\")\n",
    "            # Nowhere to go from end\n",
    "            best_end = cell.score\n",
    "            continue\n",
    "        \n",
    "        # Try cells which we can reach from this one\n",
    "        # Note: don't bother estimating distance remaining for part 2\n",
    "        # Turns\n",
    "        for turn in (-1j, 1j):\n",
    "            new_facing = cell.facing * turn\n",
    "            score = cell.score + 1000\n",
    "            # est_dist = estimated_cost(cell.pos, new_facing, end)\n",
    "            candidates.put(Cell(score, score, cell.pos, new_facing, cell.path + [(cell.pos, new_facing)]))\n",
    "        # 1 step\n",
    "        if (new_pos := (cell.pos + cell.facing)) in maze:\n",
    "            score = cell.score + 1\n",
    "            # est_dist = estimated_cost(new_pos, cell.facing, end)\n",
    "            candidates.put(Cell(score, score, new_pos, cell.facing, cell.path + [(new_pos, cell.facing)]))\n",
    "    \n",
    "    # Done pathfinding. Return all predecessors of end\n",
    "    predecessors[(start, facing)] = []\n",
    "    return predecessors\n",
    "\n",
    "def all_predecessors(predecessors, end: complex) -> set[complex]:\n",
    "    seen = set()\n",
    "    nodes = deque([(pos, facing) for (pos, facing) in predecessors.keys() if pos == end])\n",
    "    while nodes:\n",
    "        pos, facing = nodes.pop()\n",
    "        if (pos, facing) in seen:\n",
    "            continue\n",
    "        seen.add((pos, facing))\n",
    "        nodes.extend(predecessors.get((pos, facing), []))\n",
    "    return seen"
   ]
  },
  {
   "cell_type": "code",
   "execution_count": 9,
   "metadata": {},
   "outputs": [
    {
     "name": "stdout",
     "output_type": "stream",
     "text": [
      "Reached goal in 61 moves, cell.score=11048\n",
      "Reached goal in 61 moves, cell.score=11048\n"
     ]
    },
    {
     "data": {
      "text/plain": [
       "64"
      ]
     },
     "execution_count": 9,
     "metadata": {},
     "output_type": "execute_result"
    }
   ],
   "source": [
    "bests = find_bests(maze, start_pos, 1, end_pos)\n",
    "visited_nodes = all_predecessors(bests, end_pos)\n",
    "visited_positions = {pos for (pos, facing) in visited_nodes}\n",
    "len(visited_positions)"
   ]
  },
  {
   "cell_type": "code",
   "execution_count": null,
   "metadata": {},
   "outputs": [],
   "source": []
  }
 ],
 "metadata": {
  "kernelspec": {
   "display_name": ".venv",
   "language": "python",
   "name": "python3"
  },
  "language_info": {
   "codemirror_mode": {
    "name": "ipython",
    "version": 3
   },
   "file_extension": ".py",
   "mimetype": "text/x-python",
   "name": "python",
   "nbconvert_exporter": "python",
   "pygments_lexer": "ipython3",
   "version": "3.13.0"
  }
 },
 "nbformat": 4,
 "nbformat_minor": 2
}
