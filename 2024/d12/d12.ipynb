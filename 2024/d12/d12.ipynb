{
 "cells": [
  {
   "cell_type": "code",
   "execution_count": 1,
   "metadata": {},
   "outputs": [],
   "source": [
    "from collections import deque"
   ]
  },
  {
   "cell_type": "code",
   "execution_count": 2,
   "metadata": {},
   "outputs": [],
   "source": [
    "filename = \"sample.txt\"\n",
    "# filename = \"sample2.txt\"\n",
    "# filename = \"input.txt\"\n",
    "with open(filename, encoding=\"utf-8\") as f:\n",
    "    data = f.read()\n",
    "\n",
    "lines = data.strip().split(\"\\n\")"
   ]
  },
  {
   "cell_type": "markdown",
   "metadata": {},
   "source": [
    "https://adventofcode.com/2024/day/12"
   ]
  },
  {
   "cell_type": "code",
   "execution_count": 3,
   "metadata": {},
   "outputs": [],
   "source": [
    "## Part 1\n",
    "# Map garden plots growing different plants\n",
    "# Plants are part of the same plot if they have the same type and are adjacent\n",
    "# Draw a fence around each plot. Price = Area x Perimeter\n",
    "directions = [1, 1j, -1, -1j]  # ESWN\n",
    "grid = {x + y * 1j: c for y, line in enumerate(lines) for x, c in enumerate(line)}\n",
    "\n",
    "def adjacent(pos: complex) -> list[complex]:\n",
    "    return [pos + step for step in directions]\n",
    "\n",
    "def get_region(start_pos: complex) -> set[complex]:\n",
    "    plant_type = grid[start_pos]\n",
    "    frontier = deque([start_pos])\n",
    "    seen = set()\n",
    "    result = set()\n",
    "    while frontier:\n",
    "        pos = frontier.pop()\n",
    "        # Have we seen this before?\n",
    "        if pos in seen:\n",
    "            continue\n",
    "        seen.add(pos)\n",
    "        # Is this the right type of plant?\n",
    "        if grid[pos] != plant_type:\n",
    "            continue\n",
    "\n",
    "        result.add(pos)\n",
    "        # Try neighbours of pos if they're on the map\n",
    "        neighbours = adjacent(pos)\n",
    "        frontier.extend(n for n in neighbours if n in grid)\n",
    "\n",
    "    return result\n",
    "\n",
    "def get_perimeter(region: set[complex]) -> int:\n",
    "    # Note: The same outside-tile can be adjacent to more than 1 in the region. It should be counted multiple times\n",
    "    perimeter = 0\n",
    "    for pos in region:\n",
    "        # Note: It doesn't matter if the neighbour isn't on the grid, it still counts!\n",
    "        outside_neighbours = set(adjacent(pos)) - region\n",
    "        perimeter += len(outside_neighbours)\n",
    "    return perimeter"
   ]
  },
  {
   "cell_type": "code",
   "execution_count": 4,
   "metadata": {},
   "outputs": [
    {
     "name": "stdout",
     "output_type": "stream",
     "text": [
      "len(result)=5\n",
      "140\n"
     ]
    }
   ],
   "source": [
    "result = []\n",
    "price = 0\n",
    "seen = set()\n",
    "for y, line in enumerate(lines):\n",
    "    for x, c in enumerate(line):\n",
    "        pos = x + y * 1j\n",
    "        if pos in seen:\n",
    "            continue\n",
    "        region = get_region(pos)\n",
    "        area = len(region)\n",
    "        perimeter = get_perimeter(region)\n",
    "        result.append((region, area))\n",
    "        price += area * perimeter\n",
    "        # Mark all positions covered by this region as seen\n",
    "        seen.update(region)\n",
    "\n",
    "print(f\"{len(result)=}\")\n",
    "print(price)"
   ]
  },
  {
   "cell_type": "code",
   "execution_count": 5,
   "metadata": {},
   "outputs": [
    {
     "name": "stdout",
     "output_type": "stream",
     "text": [
      "80\n"
     ]
    }
   ],
   "source": [
    "## Part 2\n",
    "# Unfortunately they have a bulk discount\n",
    "# For each region, Price = Area * n sides\n",
    "# Note: count internal sides as well\n",
    "# Note: Sides don't connect diagonally!\n",
    "\n",
    "# Attempt 2:\n",
    "# Build up a running count of new edges, plus a set of (pos, facing) that captures every edge\n",
    "# for every cell, see if it's an edge\n",
    "#   add it to the seen set\n",
    "#   If the previous (pos, facing) for that edge hasn't been seen, unique_edges += 1\n",
    "price = 0\n",
    "for region, area in result:\n",
    "    # Find the number of edges in this region\n",
    "    edges = set()\n",
    "    edge_count = 0\n",
    "    # Go through the tiles in this region in (x, y) order\n",
    "    for pos in sorted(region, key=lambda x: (x.imag, x.real)):\n",
    "        for facing in directions:\n",
    "            # Look ESWN. Is it an edge?\n",
    "            if (pos + facing) in region:\n",
    "                continue\n",
    "            edges.add((pos, facing))\n",
    "            # Does this follow on from an already-seen edge?\n",
    "            # If facing N/S, prev=W\n",
    "            # If facing E/W, prev=N\n",
    "            match facing:\n",
    "                case -1j | 1j:\n",
    "                    prev_pos = pos - 1\n",
    "                case -1 | 1:\n",
    "                    prev_pos = pos - 1j\n",
    "            if (prev_pos, facing) not in edges:\n",
    "                # New edge!\n",
    "                edge_count += 1\n",
    "    price += area * edge_count\n",
    "\n",
    "print(price)"
   ]
  }
 ],
 "metadata": {
  "kernelspec": {
   "display_name": ".venv",
   "language": "python",
   "name": "python3"
  },
  "language_info": {
   "codemirror_mode": {
    "name": "ipython",
    "version": 3
   },
   "file_extension": ".py",
   "mimetype": "text/x-python",
   "name": "python",
   "nbconvert_exporter": "python",
   "pygments_lexer": "ipython3",
   "version": "3.13.0"
  }
 },
 "nbformat": 4,
 "nbformat_minor": 2
}
