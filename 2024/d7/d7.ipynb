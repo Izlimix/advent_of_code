{
 "cells": [
  {
   "cell_type": "code",
   "execution_count": 1,
   "metadata": {},
   "outputs": [],
   "source": [
    "from operator import add, mul\n",
    "from functools import reduce, partial\n",
    "import math\n",
    "from tqdm import tqdm"
   ]
  },
  {
   "cell_type": "code",
   "execution_count": 2,
   "metadata": {},
   "outputs": [],
   "source": [
    "filename = \"sample.txt\"\n",
    "# filename = \"input.txt\"\n",
    "with open(filename, encoding=\"utf-8\") as f:\n",
    "    data = f.read()\n",
    "\n",
    "lines = data.strip().split(\"\\n\")"
   ]
  },
  {
   "cell_type": "markdown",
   "metadata": {},
   "source": [
    "https://adventofcode.com/2024/day/7\n",
    "\n",
    "Notes:\n",
    "- Branch-pruning idea taken from reddit, other optimisations definitely doable\n",
    "- Working backwards from target with - and / would be much quicker, since you can prune branches much earlier\n",
    "- Set operations are surprisingly expensive. Using lists instead is quicker for this solution (there likely aren't many duplicates)"
   ]
  },
  {
   "cell_type": "code",
   "execution_count": 3,
   "metadata": {},
   "outputs": [],
   "source": [
    "## Part 1\n",
    "# Equation is true if the values can be combined with + or * ops to form the total\n",
    "# Ignore precedence rules! Evaluate left-to-right\n",
    "\n",
    "# Brute-force option:\n",
    "#  Try every op in every position. 2 choices at each step -> n^2 total combinations\n",
    "#  Minor possible improvement: We can use a set to skip identical totals\n",
    "#   ^ In practice, using lists instead of sets speeds up the result from ~80it/s -> ~140it/s!\n",
    "#  May be worth trying out numpy for quick array ops"
   ]
  },
  {
   "cell_type": "code",
   "execution_count": 4,
   "metadata": {},
   "outputs": [],
   "source": [
    "# func that works with reduce(f, it, initial)\n",
    "def apply_ops(current_totals: list[int], y, *, ops=(add, mul), target=None) -> list[int]:\n",
    "    # Roughly 2x speedup on Part 2 if pruning results > target!\n",
    "    new_totals = [op(x, y) for x in current_totals for op in ops]\n",
    "    if target is not None:\n",
    "        new_totals = [n for n in new_totals if n <= target]\n",
    "    return new_totals\n",
    "\n",
    "def get_calibration_result(lines: list[str], ops) -> int:\n",
    "    calibration_result = 0\n",
    "    for line in tqdm(lines):\n",
    "        target, values = line.split(\": \")\n",
    "        target = int(target)\n",
    "        values = map(int, values.split(\" \"))\n",
    "        possible_results = reduce(partial(apply_ops, target=target, ops=ops), values, [next(values)])\n",
    "        # print(possible_results)\n",
    "        if target in possible_results:\n",
    "            # print(f\"{target} found!\")\n",
    "            calibration_result += target\n",
    "    return calibration_result\n"
   ]
  },
  {
   "cell_type": "code",
   "execution_count": 5,
   "metadata": {},
   "outputs": [
    {
     "name": "stderr",
     "output_type": "stream",
     "text": [
      "100%|██████████| 9/9 [00:00<00:00, 37338.02it/s]\n"
     ]
    },
    {
     "data": {
      "text/plain": [
       "3749"
      ]
     },
     "execution_count": 5,
     "metadata": {},
     "output_type": "execute_result"
    }
   ],
   "source": [
    "get_calibration_result(lines, (add, mul))"
   ]
  },
  {
   "cell_type": "code",
   "execution_count": 6,
   "metadata": {},
   "outputs": [
    {
     "name": "stderr",
     "output_type": "stream",
     "text": [
      "100%|██████████| 9/9 [00:00<00:00, 15382.53it/s]\n"
     ]
    },
    {
     "data": {
      "text/plain": [
       "11387"
      ]
     },
     "execution_count": 6,
     "metadata": {},
     "output_type": "execute_result"
    }
   ],
   "source": [
    "## Part 2\n",
    "# New operator type! Concat ||\n",
    "# We could be smart by implementing this as concat(a,b) = a * (10 ^ b digits) + b\n",
    "# But string concat is quicker to implement and less error-prone\n",
    "def concat(a: int, b: int) -> int:\n",
    "    return int(str(a) + str(b))\n",
    "\n",
    "# def concat(a: int, b: int) -> int:\n",
    "#     b_digits = int(math.log10(b)) + 1\n",
    "#     return a * (10 ** b_digits) + b\n",
    "\n",
    "get_calibration_result(lines, (add, mul, concat))"
   ]
  }
 ],
 "metadata": {
  "kernelspec": {
   "display_name": ".venv",
   "language": "python",
   "name": "python3"
  },
  "language_info": {
   "codemirror_mode": {
    "name": "ipython",
    "version": 3
   },
   "file_extension": ".py",
   "mimetype": "text/x-python",
   "name": "python",
   "nbconvert_exporter": "python",
   "pygments_lexer": "ipython3",
   "version": "3.13.0"
  }
 },
 "nbformat": 4,
 "nbformat_minor": 2
}
