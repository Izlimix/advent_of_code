{
 "cells": [
  {
   "cell_type": "code",
   "execution_count": 1,
   "metadata": {},
   "outputs": [],
   "source": [
    "from collections import deque, defaultdict\n",
    "from itertools import combinations\n",
    "from tqdm import tqdm"
   ]
  },
  {
   "cell_type": "code",
   "execution_count": 2,
   "metadata": {},
   "outputs": [],
   "source": [
    "filename = \"sample.txt\"\n",
    "# filename = \"input.txt\"\n",
    "with open(filename, encoding=\"utf-8\") as f:\n",
    "    data = f.read()\n",
    "\n",
    "lines = data.strip().split(\"\\n\")"
   ]
  },
  {
   "cell_type": "markdown",
   "metadata": {},
   "source": [
    "https://adventofcode.com/2024/day/20"
   ]
  },
  {
   "cell_type": "code",
   "execution_count": 3,
   "metadata": {},
   "outputs": [],
   "source": [
    "track = set()\n",
    "walls = set()\n",
    "for y, line in enumerate(lines):\n",
    "    for x, c in enumerate(line):\n",
    "        pos = complex(x, y)\n",
    "        match c:\n",
    "            case '#':\n",
    "                walls.add(pos)\n",
    "            case '.':\n",
    "                track.add(pos)\n",
    "            case 'S':\n",
    "                track.add(pos)\n",
    "                start_pos = pos\n",
    "            case 'E':\n",
    "                track.add(pos)\n",
    "                end_pos = pos"
   ]
  },
  {
   "cell_type": "code",
   "execution_count": 4,
   "metadata": {},
   "outputs": [
    {
     "data": {
      "text/plain": [
       "85"
      ]
     },
     "execution_count": 4,
     "metadata": {},
     "output_type": "execute_result"
    }
   ],
   "source": [
    "## Part 1\n",
    "# There's only one path from S to E, cheats move onto a wall, then back onto a path\n",
    "# Find the path. For each wall next to the path, pair up their neighbours (in sorted-path order)\n",
    "# Time saved is based on the diff in index of the two path-nodes of the pair\n",
    "def adjacent(pos):\n",
    "    return [pos + step for step in (1, 1j, -1, -1j)]\n",
    "\n",
    "def get_path(parents: dict, end: complex):\n",
    "    out = [end]\n",
    "    pos = parents.get(end)\n",
    "    while pos is not None:\n",
    "        out.append(pos)\n",
    "        pos = parents.get(pos)\n",
    "    return out[::-1]\n",
    "\n",
    "def bfs(grid, start, end):\n",
    "    # Reuse BFS from d18 to get the path in order\n",
    "    parent = {start: None}\n",
    "    frontier = deque([start])\n",
    "    while frontier:\n",
    "        # Note: since all steps are the same size, BFS is guaranteed to find the shortest path if we explore frontier FIFO\n",
    "        pos = frontier.popleft()  \n",
    "        if pos == end:\n",
    "            return get_path(parent, pos)\n",
    "        # Mark all reachable neighbours of pos as seen\n",
    "        for n in adjacent(pos):\n",
    "            if n in parent:\n",
    "                # Already seen\n",
    "                continue\n",
    "            if n in grid:\n",
    "                parent[n] = pos\n",
    "                frontier.append(n)\n",
    "    print(f\"BFS couldn't find path from {start} to {end}. {parent=}\")\n",
    "\n",
    "path = bfs(track, start_pos, end_pos)\n",
    "len(path)  # Note: includes start position"
   ]
  },
  {
   "cell_type": "code",
   "execution_count": 5,
   "metadata": {},
   "outputs": [],
   "source": [
    "# For each wall next to the path, find the neighbours that can cut through it\n",
    "# Pair those up and find the shortcut saving\n",
    "wall_neighbours = defaultdict(list)\n",
    "for pos in path:\n",
    "    for n in adjacent(pos):\n",
    "        if n in walls:\n",
    "            wall_neighbours[n].append(pos)\n",
    "\n",
    "# wall_neighbours"
   ]
  },
  {
   "cell_type": "code",
   "execution_count": 6,
   "metadata": {},
   "outputs": [],
   "source": [
    "shortcuts = []\n",
    "for wall, ns in wall_neighbours.items():\n",
    "    for a, b in combinations(ns, 2):\n",
    "        ind_a, ind_b = path.index(a), path.index(b)\n",
    "        # Because we added neighbours in path-order, we're guaranteed that ind_b > ind_a. But abs(diff) anyway, just to be sure\n",
    "        time_saved = abs(ind_b - ind_a) - 2  # Shortcuts always cost 2 to execute\n",
    "        shortcuts.append((time_saved, wall, a, b))\n",
    "        # print(sorted([a, b], key=lambda x: path.index(x)))\n",
    "# shortcuts"
   ]
  },
  {
   "cell_type": "code",
   "execution_count": 7,
   "metadata": {},
   "outputs": [],
   "source": [
    "# # How many cheats are there, grouped by time saved?\n",
    "# from collections import Counter\n",
    "# c = Counter(x[0] for x in shortcuts)\n",
    "# print(sorted(c.items()))"
   ]
  },
  {
   "cell_type": "code",
   "execution_count": 8,
   "metadata": {},
   "outputs": [
    {
     "data": {
      "text/plain": [
       "0"
      ]
     },
     "execution_count": 8,
     "metadata": {},
     "output_type": "execute_result"
    }
   ],
   "source": [
    "# How many cheats would save at least 100 picoseconds?\n",
    "quick_cheats = [x[0] for x in shortcuts if x[0] >= 100]\n",
    "len(quick_cheats)"
   ]
  },
  {
   "cell_type": "code",
   "execution_count": 9,
   "metadata": {},
   "outputs": [],
   "source": [
    "## Part 2\n",
    "# 20-step max cheats\n",
    "# Cheats are still uniquely identified by (start, end) positions, so path taken within the cheat doesn't matter\n",
    "# Cost of cheat = taxicab distance(start, end)\n",
    "# Option 1 (probably too many loops):\n",
    "#  For every path, consider every future pos of the path where distance <= 20\n",
    "#  if time-saving >= 50, count it\n",
    "def taxicab_dist(p1, p2):\n",
    "    d = p1 - p2\n",
    "    return abs(d.real) + abs(d.imag)"
   ]
  },
  {
   "cell_type": "code",
   "execution_count": 10,
   "metadata": {},
   "outputs": [
    {
     "name": "stderr",
     "output_type": "stream",
     "text": [
      "3570it [00:00, 426843.37it/s]\n"
     ]
    },
    {
     "data": {
      "text/plain": [
       "0"
      ]
     },
     "execution_count": 10,
     "metadata": {},
     "output_type": "execute_result"
    }
   ],
   "source": [
    "# Brute-force attempt that tries all 45,167,760 combinations of A,B. Takes ~9mins\n",
    "# There's definitely a better way that cuts down the search space\n",
    "# - iterating over path, path[i+2:] to cut out all 0 and 1-step shortcuts\n",
    "# -- ^ note from reddit: To save >= 100 steps, B must be from path[i+100:]\n",
    "# - sweep-line algorithm? Anything >= 20x or >=20y away shouldn't be paired \n",
    "# !! Use dict {pos: index} instead of list.index() -> takes ~\n",
    "distances = {pos: i for i, pos in enumerate(path)}\n",
    "\n",
    "p2_cheat_count = 0\n",
    "for a, b in tqdm(combinations(path, 2)):\n",
    "    cheat_cost = taxicab_dist(a, b)\n",
    "    # cheat_cost = abs(b.real - a.real) + abs(b.imag - a.imag)\n",
    "    if cheat_cost > 20:\n",
    "        continue\n",
    "    # ind_a, ind_b = path.index(a), path.index(b)  # This is linear to the list-length! VERY SLOW!\n",
    "    # time_saved = abs(ind_b - ind_a) - cheat_cost\n",
    "    time_saved = abs(distances[b] - distances[a]) - cheat_cost\n",
    "\n",
    "    if time_saved >= 100:\n",
    "        p2_cheat_count += 1\n",
    "\n",
    "p2_cheat_count"
   ]
  },
  {
   "cell_type": "code",
   "execution_count": 11,
   "metadata": {},
   "outputs": [
    {
     "name": "stderr",
     "output_type": "stream",
     "text": [
      "100%|██████████| 85/85 [00:00<00:00, 129642.12it/s]\n"
     ]
    },
    {
     "data": {
      "text/plain": [
       "0"
      ]
     },
     "execution_count": 11,
     "metadata": {},
     "output_type": "execute_result"
    }
   ],
   "source": [
    "# Speed-up attempt: manually iterate over pairs -> 32sec\n",
    "p2_cheat_count = 0\n",
    "for i in tqdm(range(len(path))):\n",
    "    a = path[i]\n",
    "    for b in path[i+101:]:\n",
    "        cheat_cost = taxicab_dist(a, b)\n",
    "        if cheat_cost > 20:\n",
    "            continue\n",
    "        time_saved = abs(distances[b] - distances[a]) - cheat_cost\n",
    "\n",
    "        if time_saved >= 100:\n",
    "            p2_cheat_count += 1\n",
    "\n",
    "p2_cheat_count"
   ]
  }
 ],
 "metadata": {
  "kernelspec": {
   "display_name": ".venv",
   "language": "python",
   "name": "python3"
  },
  "language_info": {
   "codemirror_mode": {
    "name": "ipython",
    "version": 3
   },
   "file_extension": ".py",
   "mimetype": "text/x-python",
   "name": "python",
   "nbconvert_exporter": "python",
   "pygments_lexer": "ipython3",
   "version": "3.13.0"
  }
 },
 "nbformat": 4,
 "nbformat_minor": 2
}
