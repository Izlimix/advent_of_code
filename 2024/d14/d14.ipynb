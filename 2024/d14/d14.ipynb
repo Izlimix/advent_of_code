{
 "cells": [
  {
   "cell_type": "code",
   "execution_count": 1,
   "metadata": {},
   "outputs": [],
   "source": [
    "import re\n",
    "import math\n",
    "from collections import Counter"
   ]
  },
  {
   "cell_type": "code",
   "execution_count": 2,
   "metadata": {},
   "outputs": [],
   "source": [
    "filename = \"sample.txt\"\n",
    "# filename = \"input.txt\"\n",
    "with open(filename, encoding=\"utf-8\") as f:\n",
    "    data = f.read()\n",
    "\n",
    "# lines = data.strip().split(\"\\n\")"
   ]
  },
  {
   "cell_type": "markdown",
   "metadata": {},
   "source": [
    "https://adventofcode.com/2024/day/14"
   ]
  },
  {
   "cell_type": "code",
   "execution_count": 3,
   "metadata": {},
   "outputs": [],
   "source": [
    "robot_pattern = r\"p=(-?\\d+),(-?\\d+) v=(-?\\d+),(-?\\d+)\"\n",
    "initial_robots = []\n",
    "for m in re.findall(robot_pattern, data):\n",
    "    px, py, vx, vy = map(int, m)\n",
    "    pos = complex(px, py)\n",
    "    step = complex(vx, vy)\n",
    "    initial_robots.append((pos, step))"
   ]
  },
  {
   "cell_type": "code",
   "execution_count": 4,
   "metadata": {},
   "outputs": [],
   "source": [
    "## Part 1\n",
    "# Since robots don't collide and the area wraps around, we should be able to calculate the final position in one step per robot\n",
    "# Final pos = (start pos + n * step) mod x,y\n",
    "# Result after 100 seconds = mul(number of robots in each quadrant)\n",
    "\n",
    "def teleport(pos: complex, x_hi: int, y_hi: int) -> complex:\n",
    "    return complex(pos.real % x_hi, pos.imag % y_hi)\n",
    "\n",
    "def take_steps(start_pos: complex, step: complex, n: int) -> complex:\n",
    "    return start_pos + (step * n)\n",
    "\n",
    "def safety_factor(robots: list[complex], x_hi, y_hi):\n",
    "    x_mid = (x_hi // 2)\n",
    "    y_mid = (y_hi // 2)\n",
    "    # 4 quadrants NW, NE, SW, SE\n",
    "    # (<x, <y), (>x, <y), ...\n",
    "    quadrants = {(x, y): 0 for x in (False, True) for y in (False, True)}\n",
    "    for pos in robots:\n",
    "        x, y = pos.real, pos.imag\n",
    "        # Skip any robots exactly on the middle-lines\n",
    "        if (x == x_mid) or (y == y_mid):\n",
    "            continue\n",
    "        quadrants[(x < x_mid), (y < y_mid)] += 1\n",
    "    \n",
    "    result = math.prod(quadrants.values())\n",
    "    return result"
   ]
  },
  {
   "cell_type": "code",
   "execution_count": null,
   "metadata": {},
   "outputs": [],
   "source": [
    "# Grid bounds (note still 0-indexed, the bound here is exclusive 0 <= x < x_hi)\n",
    "x_hi, y_hi = 11, 7  # Sample\n",
    "# x_hi, y_hi = 101, 103\n",
    "n_steps = 100\n",
    "robots = [teleport(take_steps(robot, step, n_steps), x_hi, y_hi) for robot, step in initial_robots]\n",
    "safety_factor(robots, x_hi, y_hi)"
   ]
  },
  {
   "cell_type": "code",
   "execution_count": 6,
   "metadata": {},
   "outputs": [],
   "source": [
    "## Part 2\n",
    "# The robots should arrange themselves into a picture of an Xmas tree\n",
    "# What's the fewest number of seconds for this to happen??\n",
    "def visualise(robots: list[complex], x_hi: int, y_hi: int) -> str:\n",
    "    result = []\n",
    "    grid = Counter(robots)\n",
    "    for y in range(y_hi):\n",
    "        for x in range(x_hi):\n",
    "            n_robots = grid.get(complex(x, y), '.')\n",
    "            result.append(str(n_robots))\n",
    "            # print(n_robots, end=\"\")\n",
    "        result.append(\"\\n\")\n",
    "        # print()\n",
    "    return \"\".join(result)"
   ]
  },
  {
   "cell_type": "code",
   "execution_count": 7,
   "metadata": {},
   "outputs": [],
   "source": [
    "safety_factors = []\n",
    "results = []\n",
    "for n_steps in range(0, 10_000):\n",
    "    robots = [teleport(take_steps(robot, step, n_steps), x_hi, y_hi) for robot, step in initial_robots]\n",
    "    # Arbitrary heuristic (taken from reddit): Manually check only results with an above-average safety factor (more robots in the centre)\n",
    "    safety = safety_factor(robots, x_hi, y_hi)\n",
    "    results.append((n_steps, robots, safety))\n",
    "    safety_factors.append(safety)\n",
    "\n",
    "sorted_results = sorted([r for r in results], key=lambda r: r[2])"
   ]
  },
  {
   "cell_type": "code",
   "execution_count": null,
   "metadata": {},
   "outputs": [],
   "source": [
    "# Thankfully for my input, it was the step with the highest safety!\n",
    "for i in range(100):\n",
    "    n_steps, robots, safety = sorted_results[i]\n",
    "    print(f\"---- Step {n_steps}, Safety {safety} ----\")\n",
    "    print(visualise(robots, x_hi, y_hi))\n",
    "    print()"
   ]
  },
  {
   "cell_type": "code",
   "execution_count": null,
   "metadata": {},
   "outputs": [],
   "source": []
  }
 ],
 "metadata": {
  "kernelspec": {
   "display_name": ".venv",
   "language": "python",
   "name": "python3"
  },
  "language_info": {
   "codemirror_mode": {
    "name": "ipython",
    "version": 3
   },
   "file_extension": ".py",
   "mimetype": "text/x-python",
   "name": "python",
   "nbconvert_exporter": "python",
   "pygments_lexer": "ipython3",
   "version": "3.13.0"
  }
 },
 "nbformat": 4,
 "nbformat_minor": 2
}
