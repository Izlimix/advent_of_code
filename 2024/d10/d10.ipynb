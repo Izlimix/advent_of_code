{
 "cells": [
  {
   "cell_type": "code",
   "execution_count": 1,
   "metadata": {},
   "outputs": [],
   "source": [
    "from collections import deque\n",
    "from functools import cache\n",
    "from tqdm import tqdm"
   ]
  },
  {
   "cell_type": "code",
   "execution_count": 2,
   "metadata": {},
   "outputs": [],
   "source": [
    "filename = \"sample2.txt\"\n",
    "# filename = \"input.txt\"\n",
    "with open(filename, encoding=\"utf-8\") as f:\n",
    "    data = f.read()\n",
    "\n",
    "grid = data.strip().split(\"\\n\")"
   ]
  },
  {
   "cell_type": "markdown",
   "metadata": {},
   "source": [
    "https://adventofcode.com/2024/day/10"
   ]
  },
  {
   "cell_type": "code",
   "execution_count": 3,
   "metadata": {},
   "outputs": [],
   "source": [
    "## Part 1\n",
    "# Given a heightmap, find the score of each trailhead\n",
    "# Trailheads have height 0, and the score is the number of 9s reachable by taking only +1 height steps\n",
    "heights = {x + y * 1j: int(c) for y, line in enumerate(grid) for x, c in enumerate(line) if c.isdecimal()}\n",
    "dirs = [1, 1j, -1, -1j]  # ESWN\n",
    "\n",
    "def adjacent(pos: complex) -> list[complex]:\n",
    "    return [pos + step for step in dirs]\n",
    "\n",
    "def reachable(pos: complex) -> list[complex]:\n",
    "    nexts = adjacent(pos)\n",
    "    h1 = heights[pos]\n",
    "    result = []\n",
    "    for pos2 in nexts:\n",
    "        h2 = heights.get(pos2, None)\n",
    "        if h2 is None:\n",
    "            # Out of bounds, skip\n",
    "            continue\n",
    "        # Only reachable if it's exactly 1 higher than current\n",
    "        if (h2 - h1) == 1:\n",
    "            result.append(pos2)\n",
    "    return result "
   ]
  },
  {
   "cell_type": "code",
   "execution_count": 4,
   "metadata": {},
   "outputs": [],
   "source": [
    "def get_score(trailhead: complex) -> int:\n",
    "    seen = set()\n",
    "    candidates = deque([trailhead])\n",
    "    score = 0\n",
    "    while candidates:\n",
    "        pos = candidates.pop()\n",
    "        if pos in seen:\n",
    "            # Already seen, skip\n",
    "            continue\n",
    "\n",
    "        seen.add(pos)\n",
    "        if heights[pos] == 9:\n",
    "            # Reached a peak! Nowhere up from here\n",
    "            score += 1\n",
    "            continue\n",
    "\n",
    "        # Try neighbours\n",
    "        candidates.extend(reachable(pos))\n",
    "\n",
    "    return score"
   ]
  },
  {
   "cell_type": "code",
   "execution_count": 5,
   "metadata": {},
   "outputs": [
    {
     "name": "stderr",
     "output_type": "stream",
     "text": [
      "100%|██████████| 9/9 [00:00<00:00, 9615.06it/s]\n"
     ]
    },
    {
     "data": {
      "text/plain": [
       "36"
      ]
     },
     "execution_count": 5,
     "metadata": {},
     "output_type": "execute_result"
    }
   ],
   "source": [
    "trailheads = [pos for pos, height in heights.items() if height == 0]\n",
    "\n",
    "# total_score = 0\n",
    "# for t in tqdm(trailheads):\n",
    "#     score = get_score(t)\n",
    "#     print(f\"{t}: {score}\")\n",
    "#     total_score += score\n",
    "\n",
    "total_score = sum(get_score(t) for t in tqdm(trailheads))\n",
    "total_score"
   ]
  },
  {
   "cell_type": "code",
   "execution_count": 6,
   "metadata": {},
   "outputs": [],
   "source": [
    "## Part 2\n",
    "# Rating is the number of distinct hiking trails which begin at that trailhead\n",
    "# The same pair of (0, 9) can have many distinct paths\n",
    "# Will probably need some caching to avoid re-computing reachability\n",
    "@cache\n",
    "def trails_from(pos: complex) -> int:\n",
    "    if heights[pos] == 9:\n",
    "        # Reached a peak\n",
    "        return 1\n",
    "    return sum(trails_from(pos2) for pos2 in reachable(pos))"
   ]
  },
  {
   "cell_type": "code",
   "execution_count": 7,
   "metadata": {},
   "outputs": [
    {
     "name": "stderr",
     "output_type": "stream",
     "text": [
      "100%|██████████| 9/9 [00:00<00:00, 12114.49it/s]\n"
     ]
    },
    {
     "data": {
      "text/plain": [
       "81"
      ]
     },
     "execution_count": 7,
     "metadata": {},
     "output_type": "execute_result"
    }
   ],
   "source": [
    "total_rating = sum(trails_from(t) for t in tqdm(trailheads))\n",
    "total_rating"
   ]
  }
 ],
 "metadata": {
  "kernelspec": {
   "display_name": ".venv",
   "language": "python",
   "name": "python3"
  },
  "language_info": {
   "codemirror_mode": {
    "name": "ipython",
    "version": 3
   },
   "file_extension": ".py",
   "mimetype": "text/x-python",
   "name": "python",
   "nbconvert_exporter": "python",
   "pygments_lexer": "ipython3",
   "version": "3.13.0"
  }
 },
 "nbformat": 4,
 "nbformat_minor": 2
}
