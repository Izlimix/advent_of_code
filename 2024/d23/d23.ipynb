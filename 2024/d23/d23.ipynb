{
 "cells": [
  {
   "cell_type": "code",
   "execution_count": 1,
   "metadata": {},
   "outputs": [],
   "source": [
    "from collections import defaultdict\n",
    "from itertools import combinations\n",
    "from tqdm import tqdm"
   ]
  },
  {
   "cell_type": "code",
   "execution_count": 2,
   "metadata": {},
   "outputs": [],
   "source": [
    "filename = \"sample.txt\"\n",
    "# filename = \"input.txt\"\n",
    "with open(filename, encoding=\"utf-8\") as f:\n",
    "    data = f.read()\n",
    "\n",
    "lines = data.strip().split(\"\\n\")"
   ]
  },
  {
   "cell_type": "markdown",
   "metadata": {},
   "source": [
    "https://adventofcode.com/2024/day/23"
   ]
  },
  {
   "cell_type": "code",
   "execution_count": 3,
   "metadata": {},
   "outputs": [
    {
     "data": {
      "text/plain": [
       "4"
      ]
     },
     "execution_count": 3,
     "metadata": {},
     "output_type": "execute_result"
    }
   ],
   "source": [
    "## Part 1\n",
    "# Given a list of undirected edges between nodes,\n",
    "#  find all sets of 3 fully-connected computers where at least one starts with 't'\n",
    "neighbours = defaultdict(set)\n",
    "for line in lines:\n",
    "    a, b = line.split(\"-\")\n",
    "    neighbours[a].add(b)\n",
    "    neighbours[b].add(a)\n",
    "\n",
    "t_nodes = set(a for a in neighbours.keys() if a.startswith('t'))\n",
    "len(t_nodes)"
   ]
  },
  {
   "cell_type": "code",
   "execution_count": 4,
   "metadata": {},
   "outputs": [
    {
     "name": "stderr",
     "output_type": "stream",
     "text": [
      "100%|██████████| 16/16 [00:00<00:00, 27799.86it/s]\n"
     ]
    },
    {
     "data": {
      "text/plain": [
       "7"
      ]
     },
     "execution_count": 4,
     "metadata": {},
     "output_type": "execute_result"
    }
   ],
   "source": [
    "triples = set()\n",
    "for a in tqdm(neighbours):\n",
    "    if a not in t_nodes:\n",
    "        continue\n",
    "\n",
    "    for b, c in combinations(neighbours[a], 2):\n",
    "        if c in neighbours[b]:\n",
    "            # Add triples in a canonical order to avoid dupes\n",
    "            triples.add(tuple(sorted((a, b, c))))\n",
    "\n",
    "len(triples)"
   ]
  },
  {
   "cell_type": "code",
   "execution_count": 5,
   "metadata": {},
   "outputs": [],
   "source": [
    "## Part 2\n",
    "# Find the largest fully-connected set of computers\n",
    "# Apparently this is called a clique, and has an implementation in networkx\n",
    "# https://stackoverflow.com/a/79250363\n",
    "# https://en.wikipedia.org/wiki/Clique_problem\n",
    "\n",
    "# def is_fully_connected(nodes):\n",
    "#     return all(n2 in neighbours[n1] for n1, n2 in combinations(nodes, 2))\n",
    "\n",
    "# Attempt 1 (quick and dirty):\n",
    "# This is a relatively small graph, and we already know the number of neighbours of each node\n",
    "# Find a reasonable start-node that may be fully-connected. Its neighbour length should be near the mode neighbour length\n",
    "# -> Infeasible in this form. All nodes have 13 neighbours, but not all connected\n",
    "# len_ns = sorted((len(ns), a) for a, ns in neighbours.items())\n",
    "# len_ns"
   ]
  },
  {
   "cell_type": "code",
   "execution_count": 6,
   "metadata": {},
   "outputs": [
    {
     "data": {
      "text/plain": [
       "15"
      ]
     },
     "execution_count": 6,
     "metadata": {},
     "output_type": "execute_result"
    }
   ],
   "source": [
    "# Bron-Kerbosch algorithm without pivoting to find all maximal cliques (not contained in a larger clique)\n",
    "# https://en.wikipedia.org/wiki/Bron%E2%80%93Kerbosch_algorithm\n",
    "def bron_kerbosch(r: set, p: set, x: set):\n",
    "    # R: Required, P: Possible, X: Excluded nodes\n",
    "    if (not p) and (not x):\n",
    "        # R is a maximal clique\n",
    "        yield r\n",
    "    for v in p:\n",
    "        yield from bron_kerbosch(r | {v}, p & neighbours[v], x & neighbours[v])\n",
    "        p = p - {v}\n",
    "        x = x | {v}\n",
    "\n",
    "maximal_cliques = list(bron_kerbosch(set(), set(neighbours.keys()), set()))\n",
    "len(maximal_cliques)"
   ]
  },
  {
   "cell_type": "code",
   "execution_count": 7,
   "metadata": {},
   "outputs": [
    {
     "data": {
      "text/plain": [
       "'co,de,ka,ta'"
      ]
     },
     "execution_count": 7,
     "metadata": {},
     "output_type": "execute_result"
    }
   ],
   "source": [
    "# Find the largest clique\n",
    "biggest_clique = max(maximal_cliques, key=len)\n",
    "password = \",\".join(sorted(biggest_clique))\n",
    "password"
   ]
  }
 ],
 "metadata": {
  "kernelspec": {
   "display_name": ".venv",
   "language": "python",
   "name": "python3"
  },
  "language_info": {
   "codemirror_mode": {
    "name": "ipython",
    "version": 3
   },
   "file_extension": ".py",
   "mimetype": "text/x-python",
   "name": "python",
   "nbconvert_exporter": "python",
   "pygments_lexer": "ipython3",
   "version": "3.13.0"
  }
 },
 "nbformat": 4,
 "nbformat_minor": 2
}
