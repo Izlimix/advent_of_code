{
 "cells": [
  {
   "cell_type": "code",
   "execution_count": 1,
   "metadata": {},
   "outputs": [],
   "source": [
    "from collections import deque, namedtuple\n",
    "import itertools"
   ]
  },
  {
   "cell_type": "code",
   "execution_count": 2,
   "metadata": {},
   "outputs": [],
   "source": [
    "filename = \"sample.txt\"\n",
    "# filename = \"input.txt\"\n",
    "with open(filename, encoding=\"utf-8\") as f:\n",
    "    data = f.read()\n",
    "\n",
    "raw_input = data.strip()"
   ]
  },
  {
   "cell_type": "markdown",
   "metadata": {},
   "source": [
    "https://adventofcode.com/2024/day/9"
   ]
  },
  {
   "cell_type": "code",
   "execution_count": 3,
   "metadata": {},
   "outputs": [
    {
     "data": {
      "text/plain": [
       "10"
      ]
     },
     "execution_count": 3,
     "metadata": {},
     "output_type": "execute_result"
    }
   ],
   "source": [
    "## Part 1\n",
    "# Numbers alternate between file and free space\n",
    "# The number is the number of blocks in the file/hole\n",
    "# Each file also has an ID starting from 0. This is the file number in the original ordering (ignoring holes)\n",
    "File = namedtuple(\"File\", [\"is_hole\", \"blocks\", \"id\"])\n",
    "starting_files = []\n",
    "file_count = 0\n",
    "is_holes = itertools.cycle([False, True])\n",
    "for blocks, is_hole in zip(raw_input, is_holes):\n",
    "    if is_hole:\n",
    "        file_id = None\n",
    "    else:\n",
    "        file_id = file_count\n",
    "        file_count += 1\n",
    "    starting_files.append(File(is_hole, int(blocks), file_id))\n",
    "\n",
    "file_count"
   ]
  },
  {
   "cell_type": "code",
   "execution_count": 4,
   "metadata": {},
   "outputs": [],
   "source": [
    "def visualise(files: list[File]) -> str:\n",
    "    # Just print the last digit of the ID for now (only used for small problems n<=10)\n",
    "    return \"\".join((\".\" if file.is_hole else str(file.id % 10)) * file.blocks for file in files)\n",
    "\n",
    "def checksum(files: list[File]) -> int:\n",
    "    out = 0\n",
    "    pos = 0\n",
    "    for file in files:\n",
    "        if not file.is_hole:\n",
    "            # out += file.id * sum((pos + i) for i in range(file.blocks))\n",
    "            # Off-by-one errors below!\n",
    "            # out += file.id * sum(range(pos, pos + file.blocks))  # Note: sum(range) doesn't shortcut like `n in range()` does\n",
    "            positions = ((pos + pos + file.blocks - 1) * file.blocks) // 2  # (start + end) * n / 2\n",
    "            out += file.id * positions\n",
    "        pos += file.blocks\n",
    "    return out"
   ]
  },
  {
   "cell_type": "code",
   "execution_count": 5,
   "metadata": {},
   "outputs": [
    {
     "data": {
      "text/plain": [
       "1928"
      ]
     },
     "execution_count": 5,
     "metadata": {},
     "output_type": "execute_result"
    }
   ],
   "source": [
    "# Compress the filesystem by moving blocks from the right side to fill holes in the left\n",
    "compressed = []\n",
    "pending_files = deque(starting_files)\n",
    "try:\n",
    "    while pending_files:\n",
    "        file = pending_files.popleft()\n",
    "        if not file.is_hole:\n",
    "            compressed.append(file)\n",
    "            continue\n",
    "        # If it's a hole, consume files from the right side until the hole is filled\n",
    "        hole_size = file.blocks\n",
    "        while hole_size > 0:\n",
    "            # Get the next file from the right side. If none left (IndexError), we're done!\n",
    "            right_file = pending_files.pop()\n",
    "            if right_file.is_hole:\n",
    "                # A hole can't fill a hole. Skip.\n",
    "                continue\n",
    "            elif right_file.blocks >= hole_size:\n",
    "                # Right file fills hole completely\n",
    "                compressed.append(File(False, hole_size, right_file.id))\n",
    "                # Put remaining blocks back on the right side\n",
    "                if (remaining_blocks := right_file.blocks - hole_size) > 0:\n",
    "                    pending_files.append(File(False, remaining_blocks, right_file.id))\n",
    "                hole_size = 0\n",
    "            else:\n",
    "                # Hole not fully-filled\n",
    "                hole_size -= right_file.blocks\n",
    "                compressed.append(right_file)\n",
    "except IndexError:\n",
    "    pass\n",
    "\n",
    "checksum(compressed)"
   ]
  },
  {
   "cell_type": "code",
   "execution_count": 6,
   "metadata": {},
   "outputs": [],
   "source": [
    "## Part 2\n",
    "# Compress without splitting files instead\n",
    "# Attempt to move each file exactly once from right-to-left\n",
    "#  Move it to the leftmost hole that can fit it. If none can fit it, don't move\n",
    "\n",
    "# I think a greedy left-to-right approach could still work, we just need to scan from the right until we find a file that fits in the hole\n",
    "# But since we're keeping the spaces, a deque is less useful\n",
    "# Other options: pending_files {id: (File, start, end)} and holes [(start, end, blocks)]\n",
    "# - sort holes by start index\n",
    "# - ...\n"
   ]
  },
  {
   "cell_type": "code",
   "execution_count": 7,
   "metadata": {},
   "outputs": [
    {
     "data": {
      "text/plain": [
       "2858"
      ]
     },
     "execution_count": 7,
     "metadata": {},
     "output_type": "execute_result"
    }
   ],
   "source": [
    "# Brute force (very inefficient! 32 sec on input)\n",
    "# - This scans files on the right side many times. It would be more efficient to keep track of the \"next\" file of each blocksize\n",
    "defragged = []\n",
    "pending_files = deque(starting_files)\n",
    "\n",
    "while pending_files:\n",
    "    file = pending_files.popleft()\n",
    "    if not file.is_hole:\n",
    "        defragged.append(file)\n",
    "        continue\n",
    "    # If it's a hole, try to consume files from the right side until the hole is filled\n",
    "    hole_size = file.blocks\n",
    "    right_files_skipped = []\n",
    "    while pending_files:\n",
    "        # Get the next file from the right side\n",
    "        right_file = pending_files.pop()\n",
    "        if right_file.is_hole:\n",
    "            # A hole can't fill a hole. Skip.\n",
    "            right_files_skipped.append(right_file)\n",
    "            continue\n",
    "        elif right_file.blocks <= hole_size:\n",
    "            # Right file fits in the hole\n",
    "            defragged.append(right_file)\n",
    "            hole_size -= right_file.blocks\n",
    "            # Put a hole in pending list where right_file was\n",
    "            right_files_skipped.append(File(is_hole=True, blocks=right_file.blocks, id=None))\n",
    "            if hole_size <= 0:\n",
    "                # Hole completely filled, we're done!\n",
    "                break\n",
    "            # Note: we don't need to check skipped files again for this hole, since the hole's only gotten smaller\n",
    "        else:\n",
    "            # Right file doesn't fit, skip.\n",
    "            right_files_skipped.append(right_file)\n",
    "            continue\n",
    " \n",
    "    # No files left. Remaining hole stays in result\n",
    "    if hole_size > 0:\n",
    "        defragged.append(File(is_hole=True, blocks=hole_size, id=None))\n",
    "    # Put skipped files back in the deque\n",
    "    pending_files.extend(right_files_skipped[::-1])\n",
    "    \n",
    "\n",
    "checksum(defragged)"
   ]
  }
 ],
 "metadata": {
  "kernelspec": {
   "display_name": ".venv",
   "language": "python",
   "name": "python3"
  },
  "language_info": {
   "codemirror_mode": {
    "name": "ipython",
    "version": 3
   },
   "file_extension": ".py",
   "mimetype": "text/x-python",
   "name": "python",
   "nbconvert_exporter": "python",
   "pygments_lexer": "ipython3",
   "version": "3.13.0"
  }
 },
 "nbformat": 4,
 "nbformat_minor": 2
}
