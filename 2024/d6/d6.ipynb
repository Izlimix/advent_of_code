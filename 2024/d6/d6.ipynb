{
 "cells": [
  {
   "cell_type": "code",
   "execution_count": 1,
   "metadata": {},
   "outputs": [],
   "source": [
    "import itertools\n",
    "from tqdm import tqdm\n",
    "from copy import deepcopy"
   ]
  },
  {
   "cell_type": "code",
   "execution_count": 2,
   "metadata": {},
   "outputs": [],
   "source": [
    "filename = \"sample.txt\"\n",
    "# filename = \"input.txt\"\n",
    "with open(filename, encoding=\"utf-8\") as f:\n",
    "    data = f.read()\n",
    "\n",
    "lines = data.strip().split(\"\\n\")"
   ]
  },
  {
   "cell_type": "code",
   "execution_count": 3,
   "metadata": {},
   "outputs": [],
   "source": [
    "## Part 1\n",
    "# The guard ^ starts facing N and moves forwards, turning clockwise when it hits an obstacle\n",
    "# Including starting pos, how many distinct positions are visited before it leaves the map?\n",
    "# NESW (clockwise)\n",
    "directions = [-1j, 1, 1j, -1]\n",
    "n_directions = len(directions)\n",
    "guard_facing = 0  # index of currently-facing direction\n",
    "starting_pos = None\n",
    "obstacles = dict()\n",
    "\n",
    "for y, line in enumerate(lines):\n",
    "    for x, c in enumerate(line):\n",
    "        pos = x + y * 1j\n",
    "        obstacles[pos] = c == \"#\"\n",
    "        if c == \"^\":\n",
    "            starting_pos = pos"
   ]
  },
  {
   "cell_type": "code",
   "execution_count": 4,
   "metadata": {},
   "outputs": [
    {
     "name": "stderr",
     "output_type": "stream",
     "text": [
      "54it [00:00, 167029.81it/s]"
     ]
    },
    {
     "name": "stdout",
     "output_type": "stream",
     "text": [
      "Next pos (7+10j) is out of bounds. Done!\n"
     ]
    },
    {
     "name": "stderr",
     "output_type": "stream",
     "text": [
      "\n"
     ]
    },
    {
     "data": {
      "text/plain": [
       "41"
      ]
     },
     "execution_count": 4,
     "metadata": {},
     "output_type": "execute_result"
    }
   ],
   "source": [
    "guard_pos = starting_pos\n",
    "seen = {guard_pos}\n",
    "for _ in tqdm(itertools.count(1)):\n",
    "    # Try to take a step\n",
    "    next_pos = guard_pos + directions[guard_facing]\n",
    "    try:\n",
    "        is_blocked = obstacles[next_pos]\n",
    "    except KeyError:\n",
    "        print(f\"Next pos {next_pos} is out of bounds. Done!\")\n",
    "        break\n",
    "   \n",
    "    if is_blocked:\n",
    "        # Turn clockwise and repeat\n",
    "        guard_facing = (guard_facing + 1) % n_directions\n",
    "    else:\n",
    "        guard_pos = next_pos\n",
    "        seen.add(guard_pos)\n",
    "\n",
    "len(seen)"
   ]
  },
  {
   "cell_type": "code",
   "execution_count": 5,
   "metadata": {},
   "outputs": [],
   "source": [
    "## Part 2\n",
    "# By adding a single obstacle to any open pos (except the starting guard pos), create a loop that traps the guard\n",
    "# How many different positions could you choose for the obstruction?\n",
    "\n",
    "# A loop exists if the guard reaches the same position facing the same direction\n",
    "# It _might_ be ok for the obstruction to be 1 out-of-bounds (but let's ignore that for attempt 1)\n",
    "\n",
    "# Brute-force: We can iteratively try all open spots in obstacles. This would be max 130x130 attempts\n",
    "# Slightly better: Try all cells in the initial route\n",
    "#  We don't need to consider cells outside this since we're only placing 1 obstacle"
   ]
  },
  {
   "cell_type": "code",
   "execution_count": 6,
   "metadata": {},
   "outputs": [],
   "source": [
    "def walk(obstacles: dict, starting_pos: complex) -> tuple[bool, set[tuple[complex, int]]]:\n",
    "    guard_pos = starting_pos\n",
    "    guard_facing = 0  # index of currently-facing direction\n",
    "    seen = {(guard_pos, guard_facing)}\n",
    "    for steps in itertools.count(1):\n",
    "        # Try to take a step\n",
    "        next_pos = guard_pos + directions[guard_facing]\n",
    "        try:\n",
    "            is_blocked = obstacles[next_pos]\n",
    "        except KeyError:\n",
    "            # print(f\"Next pos {next_pos} is out of bounds. Done!\")\n",
    "            return True, seen\n",
    "        \n",
    "        # Loop detection: Have I been here before?\n",
    "        if (next_pos, guard_facing) in seen:\n",
    "            # print(f\"Loop found, reached {guard_pos} again in {steps} steps!\")\n",
    "            return False, seen\n",
    "    \n",
    "        if is_blocked:\n",
    "            # Turn clockwise and repeat\n",
    "            guard_facing = (guard_facing + 1) % n_directions\n",
    "        else:\n",
    "            guard_pos = next_pos\n",
    "            seen.add((guard_pos, guard_facing))"
   ]
  },
  {
   "cell_type": "code",
   "execution_count": 7,
   "metadata": {},
   "outputs": [
    {
     "name": "stderr",
     "output_type": "stream",
     "text": [
      "Obstacle position candidates: 100%|██████████| 40/40 [00:00<00:00, 11961.51it/s]\n"
     ]
    },
    {
     "data": {
      "text/plain": [
       "6"
      ]
     },
     "execution_count": 7,
     "metadata": {},
     "output_type": "execute_result"
    }
   ],
   "source": [
    "# Try all cells in the initial route, keep track of how many caused a loop\n",
    "valid_candidate_count = 0\n",
    "# Can't put an obstacle on starting pos\n",
    "initial_route = seen.difference({starting_pos})\n",
    "\n",
    "for obstacle_candidate in tqdm(initial_route, desc=\"Obstacle position candidates\"):\n",
    "    new_obstacles = deepcopy(obstacles)\n",
    "    new_obstacles[obstacle_candidate] = True\n",
    "    guard_escapes, path = walk(new_obstacles, starting_pos)\n",
    "    if not guard_escapes:\n",
    "        valid_candidate_count += 1\n",
    "\n",
    "valid_candidate_count"
   ]
  }
 ],
 "metadata": {
  "kernelspec": {
   "display_name": ".venv",
   "language": "python",
   "name": "python3"
  },
  "language_info": {
   "codemirror_mode": {
    "name": "ipython",
    "version": 3
   },
   "file_extension": ".py",
   "mimetype": "text/x-python",
   "name": "python",
   "nbconvert_exporter": "python",
   "pygments_lexer": "ipython3",
   "version": "3.13.0"
  }
 },
 "nbformat": 4,
 "nbformat_minor": 2
}
