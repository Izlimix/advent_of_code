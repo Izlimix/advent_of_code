{
 "cells": [
  {
   "cell_type": "code",
   "execution_count": 1,
   "metadata": {},
   "outputs": [],
   "source": [
    "from collections import deque"
   ]
  },
  {
   "cell_type": "code",
   "execution_count": 2,
   "metadata": {},
   "outputs": [],
   "source": [
    "filename = \"sample.txt\"\n",
    "# filename = \"input.txt\"\n",
    "with open(filename, encoding=\"utf-8\") as f:\n",
    "    data = f.read()\n",
    "\n",
    "lines = data.strip().split(\"\\n\")"
   ]
  },
  {
   "cell_type": "markdown",
   "metadata": {},
   "source": [
    "https://adventofcode.com/2024/day/18"
   ]
  },
  {
   "cell_type": "code",
   "execution_count": 3,
   "metadata": {},
   "outputs": [],
   "source": [
    "# Parse lines into {pos: line number}\n",
    "blocks = dict()\n",
    "for i, line in enumerate(lines):\n",
    "    x, y = map(int, line.split(\",\"))\n",
    "    blocks[complex(x, y)] = i"
   ]
  },
  {
   "cell_type": "code",
   "execution_count": 4,
   "metadata": {},
   "outputs": [],
   "source": [
    "## Part 1\n",
    "# Pathfind from 0,0 to 70,70 after 1024 blocks have fallen\n",
    "# For the sample, grid ranges to 6,6 instead, and only 12 bytes fall\n",
    "n_blocks = 12\n",
    "x_hi, y_hi = 6, 6\n",
    "# n_blocks = 1024\n",
    "# x_hi, y_hi = 70, 70\n",
    "\n",
    "p1_blocks = {k: v for (k, v) in blocks.items() if v < n_blocks}\n",
    "start_pos = complex(0, 0)\n",
    "end_pos = complex(x_hi, y_hi)"
   ]
  },
  {
   "cell_type": "code",
   "execution_count": 5,
   "metadata": {},
   "outputs": [],
   "source": [
    "def in_bounds(pos):\n",
    "    return (0 <= pos.real <= x_hi) and (0 <= pos.imag <= y_hi)\n",
    "\n",
    "def adjacent(pos):\n",
    "    return [pos + step for step in (1, 1j, -1, -1j)]\n",
    "\n",
    "def get_path(parents: dict, end: complex):\n",
    "    out = [end]\n",
    "    pos = parents.get(end)\n",
    "    while pos is not None:\n",
    "        out.append(pos)\n",
    "        pos = parents.get(pos)\n",
    "    return out[::-1]\n",
    "\n",
    "def bfs(blocks, start, end):\n",
    "    # Based on pseudocode from wiki on breadth-first search\n",
    "    # seen = {start}\n",
    "    parent = {start: None}\n",
    "    frontier = deque([start])\n",
    "    while frontier:\n",
    "        # Note: since all steps are the same size, BFS is guaranteed to find the shortest path if we explore frontier FIFO\n",
    "        pos = frontier.popleft()  \n",
    "        if pos == end:\n",
    "            return get_path(parent, pos)\n",
    "        # Mark all reachable neighbours of pos as seen\n",
    "        for n in adjacent(pos):\n",
    "            if n in parent:\n",
    "                # Already seen\n",
    "                continue\n",
    "            if (not in_bounds(n)) or (n in blocks):\n",
    "                # Blocked\n",
    "                continue\n",
    "            parent[n] = pos\n",
    "            frontier.append(n)\n",
    "    print(f\"BFS couldn't find path from {start} to {end}. {parent=}\")\n"
   ]
  },
  {
   "cell_type": "code",
   "execution_count": 6,
   "metadata": {},
   "outputs": [
    {
     "data": {
      "text/plain": [
       "22"
      ]
     },
     "execution_count": 6,
     "metadata": {},
     "output_type": "execute_result"
    }
   ],
   "source": [
    "result = bfs(p1_blocks, start_pos, end_pos)\n",
    "len(result) - 1  # Start doesn't cost a step"
   ]
  },
  {
   "cell_type": "code",
   "execution_count": 7,
   "metadata": {},
   "outputs": [],
   "source": [
    "## Part 2\n",
    "# What are the coordinates of the first byte that will prevent the exit from being reachable from the start?\n",
    "# Opt 1: Run BFS to find a route. Add blocks until one hits route, then recalculate BFS. Repeat until a path can't be found\n",
    "# Opt 1a: Similar to above, but in a binary-search manner to run BFS fewer times\n",
    "# Opt 2: Something with graph-related? Start with a fully-connected graph, remove edges until start and goal aren't in the same sub-graph\n",
    "def binary_search_f(f, vs):\n",
    "    # Binary search: find the first value of ls where predicate f is True\n",
    "    # From https://stackoverflow.com/a/42119794\n",
    "    lo = 0\n",
    "    hi = len(vs)\n",
    "    while lo < hi:\n",
    "        mid = (lo + hi) // 2\n",
    "        if f(vs[mid]):\n",
    "            hi = mid\n",
    "        else:\n",
    "            lo = mid + 1\n",
    "    return lo\n",
    "\n",
    "def reachable(all_blocks, start, end, n_blocks):\n",
    "    # Note: blocks implementation could be cleaner by taking set([block positions][:n])\n",
    "    print(f\"Running bfs for {n_blocks=}\")\n",
    "    blocks = {k: v for k, v in all_blocks.items() if v < n_blocks}\n",
    "    path = bfs(blocks, start, end)\n",
    "    return path is None"
   ]
  },
  {
   "cell_type": "code",
   "execution_count": 8,
   "metadata": {},
   "outputs": [
    {
     "name": "stdout",
     "output_type": "stream",
     "text": [
      "Running bfs for n_blocks=13\n",
      "Running bfs for n_blocks=20\n",
      "Running bfs for n_blocks=23\n",
      "BFS couldn't find path from 0j to (6+6j). parent={0j: None, 1j: 0j, 2j: 1j, 3j: 2j, (1+3j): 3j, (2+3j): (1+3j), (2+2j): (2+3j), (3+2j): (2+2j), (3+1j): (3+2j), (4+1j): (3+1j), (4+0j): (4+1j), (5+0j): (4+0j), (6+0j): (5+0j)}\n",
      "Running bfs for n_blocks=22\n",
      "BFS couldn't find path from 0j to (6+6j). parent={0j: None, 1j: 0j, 2j: 1j, 3j: 2j, (1+3j): 3j, (2+3j): (1+3j), (2+2j): (2+3j), (3+2j): (2+2j), (3+1j): (3+2j), (4+1j): (3+1j), (4+0j): (4+1j), (5+0j): (4+0j), (6+0j): (5+0j)}\n",
      "Running bfs for n_blocks=21\n",
      "BFS couldn't find path from 0j to (6+6j). parent={0j: None, (1+0j): 0j, 1j: 0j, (2+0j): (1+0j), 2j: 1j, 3j: 2j, (1+3j): 3j, (2+3j): (1+3j), (2+2j): (2+3j), (3+2j): (2+2j), (3+1j): (3+2j), (4+1j): (3+1j), (4+0j): (4+1j), (5+0j): (4+0j), (6+0j): (5+0j)}\n"
     ]
    },
    {
     "data": {
      "text/plain": [
       "21"
      ]
     },
     "execution_count": 8,
     "metadata": {},
     "output_type": "execute_result"
    }
   ],
   "source": [
    "result_index = binary_search_f(lambda n: reachable(blocks, start_pos, end_pos, n), list(range(len(blocks) + 1)))\n",
    "result_index"
   ]
  },
  {
   "cell_type": "code",
   "execution_count": 9,
   "metadata": {},
   "outputs": [
    {
     "data": {
      "text/plain": [
       "'6,1'"
      ]
     },
     "execution_count": 9,
     "metadata": {},
     "output_type": "execute_result"
    }
   ],
   "source": [
    "lines[result_index - 1]"
   ]
  }
 ],
 "metadata": {
  "kernelspec": {
   "display_name": ".venv",
   "language": "python",
   "name": "python3"
  },
  "language_info": {
   "codemirror_mode": {
    "name": "ipython",
    "version": 3
   },
   "file_extension": ".py",
   "mimetype": "text/x-python",
   "name": "python",
   "nbconvert_exporter": "python",
   "pygments_lexer": "ipython3",
   "version": "3.13.0"
  }
 },
 "nbformat": 4,
 "nbformat_minor": 2
}
