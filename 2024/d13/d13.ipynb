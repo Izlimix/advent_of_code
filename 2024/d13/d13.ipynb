{
 "cells": [
  {
   "cell_type": "code",
   "execution_count": 1,
   "metadata": {},
   "outputs": [],
   "source": [
    "import re\n",
    "from fractions import Fraction"
   ]
  },
  {
   "cell_type": "code",
   "execution_count": 2,
   "metadata": {},
   "outputs": [],
   "source": [
    "filename = \"sample.txt\"\n",
    "# filename = \"input.txt\"\n",
    "with open(filename, encoding=\"utf-8\") as f:\n",
    "    data = f.read()\n",
    "\n",
    "# blocks = data.strip().split(\"\\n\\n\")"
   ]
  },
  {
   "cell_type": "markdown",
   "metadata": {},
   "source": [
    "https://adventofcode.com/2024/day/13"
   ]
  },
  {
   "cell_type": "code",
   "execution_count": 3,
   "metadata": {},
   "outputs": [],
   "source": [
    "## Part 1\n",
    "# Each claw machine has 2 buttons A, B, and a prize at some X,Y\n",
    "# So we get the simultaneous equations (Ax)A + (Bx)B = Px, (Ay)A + (By)B = Py\n",
    "# Using Cramer's Rule, we can solve this for A-presses and B-presses\n",
    "# Note restrictions:\n",
    "#  0 <= A <= 180, 0 <= B <= 180\n",
    "#  A and B are integers\n",
    "# If equation can't be solved with these restrictions, skip\n",
    "# Note: It costs 3 tokens to push A and 1 token to push B\n",
    "machine_pattern = re.compile(r'Button A: X\\+(\\d+), Y\\+(\\d+)\\nButton B: X\\+(\\d+), Y\\+(\\d+)\\nPrize: X=(\\d+), Y=(\\d+)')\n",
    "\n",
    "def determinant_2d(x1, y1, x2, y2) -> tuple:\n",
    "    return x1 * y2 - y1 * x2\n",
    "\n",
    "def cramers_rule(a1, b1, c1, a2, b2, c2) -> tuple:\n",
    "    det_a = determinant_2d(a1, b1, a2, b2)\n",
    "    x = determinant_2d(c1, b1, c2, b2) / det_a\n",
    "    y = determinant_2d(a1, c1, a2, c2) / det_a\n",
    "    return x, y"
   ]
  },
  {
   "cell_type": "code",
   "execution_count": 4,
   "metadata": {},
   "outputs": [
    {
     "data": {
      "text/plain": [
       "480"
      ]
     },
     "execution_count": 4,
     "metadata": {},
     "output_type": "execute_result"
    }
   ],
   "source": [
    "tokens_spent = 0\n",
    "\n",
    "for m in machine_pattern.findall(data):\n",
    "    # Use Fractions to avoid floating-pt error\n",
    "    ax, ay, bx, by, px, py = map(Fraction, m)\n",
    "    # print(m)\n",
    "    try:\n",
    "        a_presses, b_presses = cramers_rule(ax, bx, px, ay, by, py)\n",
    "    except ZeroDivisionError:\n",
    "        # Determinant of 0, can't be solved\n",
    "        continue\n",
    "\n",
    "    # Reject result if non-integer or below 0\n",
    "    if (not a_presses.is_integer()) or (not b_presses.is_integer()):\n",
    "        continue\n",
    "    if (a_presses < 0) or (b_presses < 0):\n",
    "        continue\n",
    "    \n",
    "    tokens = int(3 * a_presses + b_presses)\n",
    "    # print(f\"Got prize! {a_presses=}, {b_presses=}, {tokens=}\")\n",
    "    tokens_spent += tokens\n",
    "\n",
    "tokens_spent    "
   ]
  },
  {
   "cell_type": "code",
   "execution_count": 5,
   "metadata": {},
   "outputs": [
    {
     "data": {
      "text/plain": [
       "875318608908"
      ]
     },
     "execution_count": 5,
     "metadata": {},
     "output_type": "execute_result"
    }
   ],
   "source": [
    "## Part 2\n",
    "# The position of the price is now +10000000000000 away on the X and Y axes\n",
    "tokens_spent = 0\n",
    "prize_offset = 10_000_000_000_000\n",
    "\n",
    "for m in machine_pattern.findall(data):\n",
    "    # Use Fractions to avoid floating-pt error\n",
    "    ax, ay, bx, by, px, py = map(Fraction, m)\n",
    "    px += prize_offset\n",
    "    py += prize_offset\n",
    "    try:\n",
    "        a_presses, b_presses = cramers_rule(ax, bx, px, ay, by, py)\n",
    "    except ZeroDivisionError:\n",
    "        # Determinant of 0, can't be solved\n",
    "        continue\n",
    "\n",
    "    # Reject result if non-integer or below 0\n",
    "    if (not a_presses.is_integer()) or (not b_presses.is_integer()):\n",
    "        continue\n",
    "    if (a_presses < 0) or (b_presses < 0):\n",
    "        continue\n",
    "    \n",
    "    tokens = int(3 * a_presses + b_presses)\n",
    "    tokens_spent += tokens\n",
    "\n",
    "tokens_spent    "
   ]
  },
  {
   "cell_type": "code",
   "execution_count": null,
   "metadata": {},
   "outputs": [],
   "source": []
  }
 ],
 "metadata": {
  "kernelspec": {
   "display_name": ".venv",
   "language": "python",
   "name": "python3"
  },
  "language_info": {
   "codemirror_mode": {
    "name": "ipython",
    "version": 3
   },
   "file_extension": ".py",
   "mimetype": "text/x-python",
   "name": "python",
   "nbconvert_exporter": "python",
   "pygments_lexer": "ipython3",
   "version": "3.13.0"
  }
 },
 "nbformat": 4,
 "nbformat_minor": 2
}
