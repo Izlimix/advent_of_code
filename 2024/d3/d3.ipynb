{
 "cells": [
  {
   "cell_type": "code",
   "execution_count": 1,
   "metadata": {},
   "outputs": [],
   "source": [
    "import re"
   ]
  },
  {
   "cell_type": "code",
   "execution_count": 2,
   "metadata": {},
   "outputs": [],
   "source": [
    "# filename = \"sample1.txt\"\n",
    "filename = \"sample2.txt\"\n",
    "# filename = \"input.txt\"\n",
    "with open(filename, encoding=\"utf-8\") as f:\n",
    "    data = f.read().strip()"
   ]
  },
  {
   "cell_type": "markdown",
   "metadata": {},
   "source": [
    "https://adventofcode.com/2024/day/3"
   ]
  },
  {
   "cell_type": "code",
   "execution_count": 3,
   "metadata": {},
   "outputs": [
    {
     "data": {
      "text/plain": [
       "161"
      ]
     },
     "execution_count": 3,
     "metadata": {},
     "output_type": "execute_result"
    }
   ],
   "source": [
    "## Part 1\n",
    "# Pattern: mul(X,Y)\n",
    "mul_pattern = r\"mul\\((\\d+),(\\d+)\\)\"\n",
    "mul_pairs = re.findall(mul_pattern, data)\n",
    "part1_result = sum(int(a) * int (b) for a, b in mul_pairs)\n",
    "part1_result"
   ]
  },
  {
   "cell_type": "code",
   "execution_count": 4,
   "metadata": {},
   "outputs": [
    {
     "data": {
      "text/plain": [
       "48"
      ]
     },
     "execution_count": 4,
     "metadata": {},
     "output_type": "execute_result"
    }
   ],
   "source": [
    "## Part 2:\n",
    "# Handle do() and don't() instructions\n",
    "p2_pattern = rf\"({mul_pattern}|do\\(\\)|don't\\(\\))\"\n",
    "p2_instructions = re.findall(p2_pattern, data)\n",
    "# Process instructions\n",
    "mul_enabled = True\n",
    "part2_result = 0\n",
    "for (instruction, a, b) in p2_instructions:\n",
    "    match instruction:\n",
    "        case \"do()\":\n",
    "            mul_enabled = True\n",
    "        case \"don't()\":\n",
    "            mul_enabled = False\n",
    "        case _:\n",
    "            if mul_enabled:\n",
    "                part2_result += int(a) * int(b)\n",
    "\n",
    "part2_result"
   ]
  }
 ],
 "metadata": {
  "kernelspec": {
   "display_name": ".venv",
   "language": "python",
   "name": "python3"
  },
  "language_info": {
   "codemirror_mode": {
    "name": "ipython",
    "version": 3
   },
   "file_extension": ".py",
   "mimetype": "text/x-python",
   "name": "python",
   "nbconvert_exporter": "python",
   "pygments_lexer": "ipython3",
   "version": "3.13.0"
  }
 },
 "nbformat": 4,
 "nbformat_minor": 2
}
