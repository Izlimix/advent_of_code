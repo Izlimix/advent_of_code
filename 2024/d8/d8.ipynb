{
 "cells": [
  {
   "cell_type": "code",
   "execution_count": 1,
   "metadata": {},
   "outputs": [],
   "source": [
    "import re\n",
    "from collections import defaultdict\n",
    "from itertools import combinations\n",
    "from tqdm import tqdm"
   ]
  },
  {
   "cell_type": "code",
   "execution_count": 2,
   "metadata": {},
   "outputs": [],
   "source": [
    "filename = \"sample.txt\"\n",
    "# filename = \"input.txt\"\n",
    "with open(filename, encoding=\"utf-8\") as f:\n",
    "    data = f.read()\n",
    "\n",
    "lines = data.strip().split(\"\\n\")"
   ]
  },
  {
   "cell_type": "markdown",
   "metadata": {},
   "source": [
    "https://adventofcode.com/2024/day/8\n"
   ]
  },
  {
   "cell_type": "code",
   "execution_count": 3,
   "metadata": {},
   "outputs": [],
   "source": [
    "## Part 1\n",
    "# For each pair of antennae at the same frequency, there are two antinodes\n",
    "#  one on either side, twice as far away\n",
    "# So for 2 nodes AB, distance (A-B) apart, there are antinodes at A + (A-B) and B - (A-B)\n",
    "# An antinode can overlap an antenna, but can't be out of map bounds\n",
    "# How many unique locations with antinodes are there?\n",
    "def antinodes(a: complex, b: complex) -> list[complex]:\n",
    "    diff = a - b\n",
    "    return [a + diff, b - diff]\n",
    "\n",
    "def in_bounds(pos: complex, x_hi: int, y_hi: int) -> bool:\n",
    "    return (0 <= pos.real < x_hi) and (0 <= pos.imag < y_hi)"
   ]
  },
  {
   "cell_type": "code",
   "execution_count": 4,
   "metadata": {},
   "outputs": [],
   "source": [
    "# X and Y upper-bounds\n",
    "y_hi, x_hi = len(lines), len(lines[0])\n",
    "\n",
    "antennae = defaultdict(list)\n",
    "antenna_pattern = re.compile(r\"[a-zA-Z0-9]\")\n",
    "for y, line in enumerate(lines):\n",
    "    for m in antenna_pattern.finditer(line):\n",
    "        x = m.start()\n",
    "        c = m.group()\n",
    "        pos = x + y * 1j\n",
    "        antennae[c].append(pos)"
   ]
  },
  {
   "cell_type": "code",
   "execution_count": 5,
   "metadata": {},
   "outputs": [
    {
     "name": "stderr",
     "output_type": "stream",
     "text": [
      "100%|██████████| 2/2 [00:00<00:00, 7008.03it/s]\n"
     ]
    },
    {
     "data": {
      "text/plain": [
       "14"
      ]
     },
     "execution_count": 5,
     "metadata": {},
     "output_type": "execute_result"
    }
   ],
   "source": [
    "unique_antinodes = set()\n",
    "for frequency, xs in tqdm(antennae.items()):\n",
    "    # Get each pair of antennae with this frequency\n",
    "    for a, b in combinations(xs, 2):\n",
    "        unique_antinodes.update(antinodes(a, b))\n",
    "\n",
    "# Filter out antinodes that are out-of-bounds\n",
    "unique_antinodes = {pos for pos in unique_antinodes if in_bounds(pos, x_hi, y_hi)}\n",
    "\n",
    "# sorted(unique_antinodes, key=lambda x: (x.imag, x.real))\n",
    "len(unique_antinodes)"
   ]
  },
  {
   "cell_type": "code",
   "execution_count": 6,
   "metadata": {},
   "outputs": [],
   "source": [
    "## Part 2\n",
    "# Antinodes occur at any distance, not just 1 on either side\n",
    "# This includes the antennae A and B themselves\n",
    "def resonant_antinodes(a: complex, b: complex, x_hi: int, y_hi: int) -> set[complex]:\n",
    "    diff = a - b\n",
    "    out = set()\n",
    "    # antinodes at A + k * (A-B)\n",
    "    pos = a\n",
    "    while in_bounds(pos, x_hi, y_hi):\n",
    "        out.add(pos)\n",
    "        pos += diff\n",
    "    # antinodes at B - k * (A-B)\n",
    "    pos = b\n",
    "    while in_bounds(pos, x_hi, y_hi):\n",
    "        out.add(pos)\n",
    "        pos -= diff\n",
    "    return out"
   ]
  },
  {
   "cell_type": "code",
   "execution_count": 7,
   "metadata": {},
   "outputs": [
    {
     "name": "stderr",
     "output_type": "stream",
     "text": [
      "100%|██████████| 2/2 [00:00<00:00, 5429.52it/s]\n"
     ]
    },
    {
     "data": {
      "text/plain": [
       "34"
      ]
     },
     "execution_count": 7,
     "metadata": {},
     "output_type": "execute_result"
    }
   ],
   "source": [
    "unique_antinodes = set()\n",
    "for frequency, xs in tqdm(antennae.items()):\n",
    "    # Get each pair of antennae with this frequency\n",
    "    for a, b in combinations(xs, 2):\n",
    "        unique_antinodes.update(resonant_antinodes(a, b, x_hi, y_hi))\n",
    "\n",
    "len(unique_antinodes)"
   ]
  }
 ],
 "metadata": {
  "kernelspec": {
   "display_name": ".venv",
   "language": "python",
   "name": "python3"
  },
  "language_info": {
   "codemirror_mode": {
    "name": "ipython",
    "version": 3
   },
   "file_extension": ".py",
   "mimetype": "text/x-python",
   "name": "python",
   "nbconvert_exporter": "python",
   "pygments_lexer": "ipython3",
   "version": "3.13.0"
  }
 },
 "nbformat": 4,
 "nbformat_minor": 2
}
